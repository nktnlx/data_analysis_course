{
 "cells": [
  {
   "cell_type": "code",
   "execution_count": null,
   "metadata": {},
   "outputs": [],
   "source": [
    "#  Clickhouse (via Tabix) was used to solve the tasks."
   ]
  },
  {
   "cell_type": "code",
   "execution_count": null,
   "metadata": {},
   "outputs": [],
   "source": [
    "# LESSON 1 -- Intro to SQL"
   ]
  },
  {
   "cell_type": "code",
   "execution_count": null,
   "metadata": {},
   "outputs": [],
   "source": [
    "# Show the first 10 rows.\n",
    "SELECT \n",
    "  * \n",
    "FROM \n",
    "  checks \n",
    "LIMIT \n",
    "  10"
   ]
  },
  {
   "cell_type": "code",
   "execution_count": null,
   "metadata": {},
   "outputs": [],
   "source": [
    "# Show top-10 values in Rub column. Sort them in descending order.\n",
    "SELECT \n",
    "  * \n",
    "FROM \n",
    "  checks \n",
    "ORDER BY \n",
    "  Rub DESC \n",
    "LIMIT \n",
    "  10;"
   ]
  },
  {
   "cell_type": "code",
   "execution_count": null,
   "metadata": {},
   "outputs": [],
   "source": [
    "# Show the first 15 rows of the table renaming Rub to Revenue \n",
    "# and sort the result by UserID (ascending order).\n",
    "SELECT \n",
    "  Rub AS Revenue, \n",
    "  BuyDate, \n",
    "  UserID \n",
    "FROM \n",
    "  checks \n",
    "ORDER BY \n",
    "  UserID ASC \n",
    "LIMIT \n",
    "  15"
   ]
  },
  {
   "cell_type": "code",
   "execution_count": null,
   "metadata": {},
   "outputs": [],
   "source": [
    "# Show 10 unique UserID's. Sort the results by UserID in ascending order.\n",
    "SELECT \n",
    "  DISTINCT UserID \n",
    "FROM \n",
    "  checks \n",
    "ORDER BY \n",
    "  UserID ASC \n",
    "LIMIT \n",
    "  10"
   ]
  },
  {
   "cell_type": "code",
   "execution_count": null,
   "metadata": {},
   "outputs": [],
   "source": [
    "# Show the sales data: orders purchased on the 8th of March 2019.\n",
    "# Sort the results by Rub in descending order. Limit the data to the first 10 rows.\n",
    "SELECT \n",
    "  * \n",
    "FROM \n",
    "  checks \n",
    "WHERE \n",
    "  BuyDate IN ('2019-03-08') \n",
    "ORDER BY \n",
    "  Rub DESC \n",
    "LIMIT \n",
    "  10"
   ]
  },
  {
   "cell_type": "code",
   "execution_count": null,
   "metadata": {},
   "outputs": [],
   "source": [
    "# Show unique UserID's for buyers made purchase on the 1st of September 2019\n",
    "# and their expenditures were higer than 2000 rubles.\n",
    "# Sort the resul by UserID in descending order.\n",
    "SELECT \n",
    "  DISTINCT UserID \n",
    "FROM \n",
    "  checks \n",
    "WHERE \n",
    "  (\n",
    "    BuyDate = '2019-09-01' \n",
    "    AND Rub > 2000\n",
    "  ) \n",
    "ORDER BY \n",
    "  UserID DESC"
   ]
  },
  {
   "cell_type": "code",
   "execution_count": null,
   "metadata": {},
   "outputs": [],
   "source": []
  },
  {
   "cell_type": "code",
   "execution_count": null,
   "metadata": {},
   "outputs": [],
   "source": [
    "# LESSON 2 -- Grouping and Aggregate"
   ]
  },
  {
   "cell_type": "code",
   "execution_count": null,
   "metadata": {},
   "outputs": [],
   "source": [
    "# Count number of purchases per each client, name the column as NumChecks.\n",
    "# Sort the result by NumChecks in descending order. Limit output to 10 rows.\n",
    "SELECT \n",
    "  UserID, \n",
    "  COUNT(Rub) AS NumChecks \n",
    "FROM \n",
    "  checks \n",
    "GROUP BY \n",
    "  UserID \n",
    "ORDER BY \n",
    "  NumChecks DESC \n",
    "LIMIT \n",
    "  10"
   ]
  },
  {
   "cell_type": "code",
   "execution_count": null,
   "metadata": {},
   "outputs": [],
   "source": [
    "# Count sum of purchases made by each client, name the column as Revenue.\n",
    "# Sort the result by Revenue in descending order. Limit output to 10 rows.\n",
    "SELECT \n",
    "  UserID, \n",
    "  COUNT(Rub) AS NumChecks, \n",
    "  SUM(Rub) AS Revenue \n",
    "FROM \n",
    "  checks \n",
    "GROUP BY \n",
    "  UserID \n",
    "ORDER BY \n",
    "  Revenue DESC \n",
    "LIMIT \n",
    "  10"
   ]
  },
  {
   "cell_type": "code",
   "execution_count": null,
   "metadata": {},
   "outputs": [],
   "source": [
    "# Count by date min, max and average money spent.\n",
    "# Use sort by BuyDate in descending order. Limit output ot 10 rows.\n",
    "SELECT \n",
    "  BuyDate, \n",
    "  MIN(Rub) AS MinCheck, \n",
    "  MAX(Rub) AS MaxCheck, \n",
    "  AVG(Rub) AS AvgCheck \n",
    "FROM \n",
    "  checks \n",
    "GROUP BY \n",
    "  BuyDate \n",
    "ORDER BY \n",
    "  BuyDate DESC \n",
    "LIMIT \n",
    "  10"
   ]
  },
  {
   "cell_type": "code",
   "execution_count": null,
   "metadata": {},
   "outputs": [],
   "source": [
    "# Find customers who has spent more than 10000 rubles.\n",
    "# Sort the result by UserID in descending order. Limit output to 10 rows.\n",
    "SELECT \n",
    "  UserID, \n",
    "  SUM(Rub) AS Revenue \n",
    "FROM \n",
    "  checks \n",
    "GROUP BY \n",
    "  UserID \n",
    "HAVING \n",
    "  Revenue > 10000 \n",
    "ORDER BY \n",
    "  UserID DESC \n",
    "LIMIT \n",
    "  10"
   ]
  },
  {
   "cell_type": "code",
   "execution_count": null,
   "metadata": {},
   "outputs": [],
   "source": [
    "# Count Revenue by country. Sort the result by Revenue in descenig order.\n",
    "# Limit output to 10 rows.\n",
    "SELECT \n",
    "  Country, \n",
    "  SUM(Quantity * UnitPrice) AS Revenue \n",
    "FROM \n",
    "  default.retail \n",
    "GROUP BY \n",
    "  Country \n",
    "ORDER BY \n",
    "  Revenue DESC \n",
    "LIMIT \n",
    "  10"
   ]
  },
  {
   "cell_type": "code",
   "execution_count": null,
   "metadata": {},
   "outputs": [],
   "source": [
    "# Count average number of purchases and an average price of a unit.\n",
    "# Group the result by country and sort it by an average price of a unit \n",
    "# in descending order. Do not include purchases having \"Manual\" in Description.\n",
    "SELECT \n",
    "  Country, \n",
    "  AVG(UnitPrice), \n",
    "  AVG(Quantity) \n",
    "FROM \n",
    "  default.retail \n",
    "WHERE \n",
    "  Description != 'Manual' \n",
    "GROUP BY \n",
    "  Country \n",
    "ORDER BY \n",
    "  AVG(UnitPrice) DESC"
   ]
  },
  {
   "cell_type": "code",
   "execution_count": null,
   "metadata": {},
   "outputs": [],
   "source": [
    "# Calculate Revenue by month. Sort the result by Revenue in descending order.\n",
    "# Do not include purchases having \"Manual\" in Description.\n",
    "SELECT \n",
    "  toStartOfMonth(InvoiceDate) AS month, \n",
    "  SUM(UnitPrice * Quantity) AS revenue \n",
    "FROM \n",
    "  default.retail \n",
    "WHERE \n",
    "  Description != 'Manual' \n",
    "GROUP BY \n",
    "  month \n",
    "ORDER BY \n",
    "  revenue DESC"
   ]
  },
  {
   "cell_type": "code",
   "execution_count": null,
   "metadata": {},
   "outputs": [],
   "source": [
    "# Calculate an average price of a unit bought in march 2011.\n",
    "# Group the results by CustomerID and sort it by an average price of a unit in\n",
    "# descending order. Do not include purchases having \"Manual\" in Description.\n",
    "# Limit output to 10 rows.\n",
    "SELECT \n",
    "  CustomerID, \n",
    "  AVG(UnitPrice) AS avg_purch_in_march \n",
    "FROM \n",
    "  default.retail \n",
    "WHERE \n",
    "  Description != 'Manual' \n",
    "GROUP BY \n",
    "  CustomerID \n",
    "HAVING \n",
    "  toStartOfMonth(InvoiceDate) = '2011-03-01' \n",
    "ORDER BY \n",
    "  avg_purch_in_march DESC \n",
    "LIMIT \n",
    "  10"
   ]
  },
  {
   "cell_type": "code",
   "execution_count": null,
   "metadata": {},
   "outputs": [],
   "source": [
    "# Group the data by month and country and calculate average, min, max quanitity of\n",
    "# bought items. Sort the result by average quantity in descending order.\n",
    "# Do not include purchases having \"Manual\" in Description and purchases having a\n",
    "# negative quantity. Show the results for United Kingdom only.\n",
    "SELECT \n",
    "  Country, \n",
    "  toStartOfMonth(InvoiceDate) AS month, \n",
    "  AVG(Quantity) AS avg_quantity, \n",
    "  MIN(Quantity) AS min_quantity, \n",
    "  MAX(Quantity) AS max_quantity \n",
    "FROM \n",
    "  default.retail \n",
    "WHERE \n",
    "  Description != 'Manual' \n",
    "  AND Quantity > 0 \n",
    "GROUP BY \n",
    "  Country, \n",
    "  month \n",
    "HAVING \n",
    "  Country = 'United Kingdom' \n",
    "ORDER BY \n",
    "  avg_quantity DESC"
   ]
  },
  {
   "cell_type": "code",
   "execution_count": null,
   "metadata": {},
   "outputs": [],
   "source": []
  },
  {
   "cell_type": "code",
   "execution_count": null,
   "metadata": {},
   "outputs": [],
   "source": [
    "# LESSON 3 -- Joins"
   ]
  },
  {
   "cell_type": "code",
   "execution_count": null,
   "metadata": {},
   "outputs": [],
   "source": [
    "# Join two tables on DeviceID. Sort the result by DeviceID in descenig order.\n",
    "# Limit output to 100 rows.\n",
    "SELECT \n",
    "  l.AppPlatform AS AppPlatform, \n",
    "  l.events AS events, \n",
    "  l.EventDate AS EventDate, \n",
    "  r.UserID AS UserID \n",
    "FROM \n",
    "  events AS l \n",
    "  LEFT JOIN devices AS r ON l.DeviceID = r.DeviceID \n",
    "ORDER BY \n",
    "  DeviceID DESC \n",
    "LIMIT \n",
    "  100"
   ]
  },
  {
   "cell_type": "code",
   "execution_count": null,
   "metadata": {},
   "outputs": [],
   "source": [
    "# Join three tables to find out the Source that brough users with the most amount \n",
    "# of money spent. Sort the result by money spent in descenig order. \n",
    "# Limit output to 100 rows.\n",
    "SELECT \n",
    "  l.Source, \n",
    "  SUM(r.Rub) AS Rub \n",
    "FROM \n",
    "  (\n",
    "    SELECT \n",
    "      l.Source, \n",
    "      l.DeviceID, \n",
    "      r.UserID \n",
    "    FROM \n",
    "      installs AS l \n",
    "      JOIN devices AS r ON l.DeviceID = r.DeviceID\n",
    "  ) AS l \n",
    "  JOIN checks AS r ON l.UserID = r.UserID \n",
    "GROUP BY \n",
    "  l.Source \n",
    "ORDER BY \n",
    "  Rub DESC \n",
    "LIMIT \n",
    "  100"
   ]
  },
  {
   "cell_type": "code",
   "execution_count": null,
   "metadata": {},
   "outputs": [],
   "source": [
    "# Find the number of unique users who bought something in our app.\n",
    "# Group and sort the result by Source. Limit output to 100 rows.\n",
    "SELECT \n",
    "  l.Source, \n",
    "  uniqExact(r.UserID) \n",
    "FROM \n",
    "  (\n",
    "    SELECT \n",
    "      l.Source, \n",
    "      l.DeviceID, \n",
    "      r.UserID \n",
    "    FROM \n",
    "      installs AS l \n",
    "      JOIN devices AS r ON l.DeviceID = r.DeviceID\n",
    "  ) AS l \n",
    "  JOIN checks AS r ON l.UserID = r.UserID \n",
    "GROUP BY \n",
    "  l.Source \n",
    "ORDER BY \n",
    "  l.Source DESC \n",
    "LIMIT \n",
    "  100"
   ]
  },
  {
   "cell_type": "code",
   "execution_count": null,
   "metadata": {},
   "outputs": [],
   "source": [
    "# Calculate Revenue, min, max, average check.\n",
    "# Group and sort the result by Source. Limit output to 100 rows.\n",
    "SELECT \n",
    "  l.Source, \n",
    "  SUM(r.Rub) AS Revenue, \n",
    "  MIN(r.Rub) AS min_check, \n",
    "  MAX(r.Rub) AS max_check, \n",
    "  AVG(r.Rub) AS avg_check \n",
    "FROM \n",
    "  (\n",
    "    SELECT \n",
    "      l.Source, \n",
    "      l.DeviceID, \n",
    "      r.UserID \n",
    "    FROM \n",
    "      installs AS l \n",
    "      JOIN devices AS r ON l.DeviceID = r.DeviceID\n",
    "  ) AS l \n",
    "  JOIN checks AS r ON l.UserID = r.UserID \n",
    "GROUP BY \n",
    "  l.Source \n",
    "ORDER BY \n",
    "  l.Source DESC \n",
    "LIMIT \n",
    "  100"
   ]
  },
  {
   "cell_type": "code",
   "execution_count": null,
   "metadata": {},
   "outputs": [],
   "source": [
    "# Show DeviceID's of users who has made at least one purchase over the last month\n",
    "# (October 2019). Sort the result by DeviceID in ascending order.\n",
    "# Limit output to 100 rows.\n",
    "SELECT \n",
    "  r.BuyDate, \n",
    "  l.DeviceID, \n",
    "  SUM(r.Rub) AS total \n",
    "FROM \n",
    "  (\n",
    "    SELECT \n",
    "      l.Source, \n",
    "      l.DeviceID, \n",
    "      r.UserID \n",
    "    FROM \n",
    "      installs AS l \n",
    "      JOIN devices AS r ON l.DeviceID = r.DeviceID\n",
    "  ) AS l \n",
    "  JOIN checks AS r ON l.UserID = r.UserID \n",
    "GROUP BY \n",
    "  l.DeviceID, \n",
    "  r.BuyDate \n",
    "HAVING \n",
    "  total > 0 \n",
    "  AND toStartOfMonth(\n",
    "    CAST(r.BuyDate AS Date)\n",
    "  ) = '2019-10-01' \n",
    "ORDER BY \n",
    "  l.DeviceID ASC \n",
    "LIMIT \n",
    "  100"
   ]
  },
  {
   "cell_type": "code",
   "execution_count": null,
   "metadata": {},
   "outputs": [],
   "source": [
    "# Check an average amount of views (events) by users from various Platforms and\n",
    "# Sources. Sort the result by an average amount of views for each platform-source pair\n",
    "# in descending order. Limit output to 100 rows.\n",
    "SELECT \n",
    "  r.Platform, \n",
    "  r.Source, \n",
    "  AVG(l.events) AS avg_views \n",
    "FROM \n",
    "  events AS l \n",
    "  JOIN installs AS r ON l.DeviceID = r.DeviceID \n",
    "GROUP BY \n",
    "  r.Platform, \n",
    "  r.Source \n",
    "ORDER BY \n",
    "  avg_views DESC \n",
    "LIMIT \n",
    "  100"
   ]
  },
  {
   "cell_type": "code",
   "execution_count": null,
   "metadata": {},
   "outputs": [],
   "source": [
    "# Count the number of unique DeviceIDs in installs only for those DeviceIDs that\n",
    "# have views (events) in events table for Platform Android.\n",
    "SELECT \n",
    "  COUNT(DISTINCT r.DeviceID) \n",
    "FROM \n",
    "  events AS l \n",
    "  INNER JOIN installs AS r ON l.DeviceID = r.DeviceID \n",
    "WHERE \n",
    "  r.Platform = 'android' \n",
    "LIMIT \n",
    "  100"
   ]
  },
  {
   "cell_type": "code",
   "execution_count": null,
   "metadata": {},
   "outputs": [],
   "source": [
    "# Calculate the conversion rate from installs to views for users using iOS platform.\n",
    "SELECT \n",
    "  (\n",
    "    COUNT(DISTINCT r.DeviceID) / COUNT(DISTINCT l.DeviceID)\n",
    "  ) AS conversion \n",
    "FROM \n",
    "  installs AS l FULL \n",
    "  JOIN events AS r ON l.DeviceID = r.DeviceID \n",
    "WHERE \n",
    "  l.Platform = 'iOS' "
   ]
  },
  {
   "cell_type": "code",
   "execution_count": null,
   "metadata": {},
   "outputs": [],
   "source": [
    "# Print 10 unique DeviceIDs that are presented in the table events but are missing from the table\n",
    "# installs because of a logging mistake. List them by DeviceIDs in descending order.\n",
    "  DISTINCT(r.DeviceID) \n",
    "FROM \n",
    "  installs AS l RIGHT ANTI \n",
    "  JOIN events AS r ON l.DeviceID = r.DeviceID \n",
    "ORDER BY \n",
    "  r.DeviceID DESC \n",
    "LIMIT \n",
    "  10"
   ]
  },
  {
   "cell_type": "code",
   "execution_count": null,
   "metadata": {},
   "outputs": [],
   "source": []
  },
  {
   "cell_type": "code",
   "execution_count": null,
   "metadata": {},
   "outputs": [],
   "source": [
    "# LESSON 4 -- Data Types"
   ]
  },
  {
   "cell_type": "code",
   "execution_count": null,
   "metadata": {},
   "outputs": [],
   "source": [
    "tbc.."
   ]
  },
  {
   "cell_type": "code",
   "execution_count": null,
   "metadata": {},
   "outputs": [],
   "source": []
  },
  {
   "cell_type": "code",
   "execution_count": null,
   "metadata": {},
   "outputs": [],
   "source": []
  },
  {
   "cell_type": "code",
   "execution_count": null,
   "metadata": {},
   "outputs": [],
   "source": []
  },
  {
   "cell_type": "code",
   "execution_count": null,
   "metadata": {},
   "outputs": [],
   "source": []
  },
  {
   "cell_type": "code",
   "execution_count": null,
   "metadata": {},
   "outputs": [],
   "source": []
  },
  {
   "cell_type": "code",
   "execution_count": null,
   "metadata": {},
   "outputs": [],
   "source": []
  },
  {
   "cell_type": "code",
   "execution_count": null,
   "metadata": {},
   "outputs": [],
   "source": []
  },
  {
   "cell_type": "code",
   "execution_count": null,
   "metadata": {},
   "outputs": [],
   "source": []
  },
  {
   "cell_type": "code",
   "execution_count": null,
   "metadata": {},
   "outputs": [],
   "source": []
  },
  {
   "cell_type": "code",
   "execution_count": null,
   "metadata": {},
   "outputs": [],
   "source": []
  },
  {
   "cell_type": "code",
   "execution_count": null,
   "metadata": {},
   "outputs": [],
   "source": []
  },
  {
   "cell_type": "code",
   "execution_count": null,
   "metadata": {},
   "outputs": [],
   "source": []
  },
  {
   "cell_type": "code",
   "execution_count": null,
   "metadata": {},
   "outputs": [],
   "source": []
  },
  {
   "cell_type": "code",
   "execution_count": null,
   "metadata": {},
   "outputs": [],
   "source": []
  },
  {
   "cell_type": "code",
   "execution_count": null,
   "metadata": {},
   "outputs": [],
   "source": []
  },
  {
   "cell_type": "code",
   "execution_count": null,
   "metadata": {},
   "outputs": [],
   "source": []
  },
  {
   "cell_type": "code",
   "execution_count": null,
   "metadata": {},
   "outputs": [],
   "source": []
  },
  {
   "cell_type": "code",
   "execution_count": null,
   "metadata": {},
   "outputs": [],
   "source": []
  },
  {
   "cell_type": "code",
   "execution_count": null,
   "metadata": {},
   "outputs": [],
   "source": []
  },
  {
   "cell_type": "code",
   "execution_count": null,
   "metadata": {},
   "outputs": [],
   "source": []
  },
  {
   "cell_type": "code",
   "execution_count": null,
   "metadata": {},
   "outputs": [],
   "source": []
  },
  {
   "cell_type": "code",
   "execution_count": null,
   "metadata": {},
   "outputs": [],
   "source": []
  },
  {
   "cell_type": "code",
   "execution_count": null,
   "metadata": {},
   "outputs": [],
   "source": []
  },
  {
   "cell_type": "code",
   "execution_count": null,
   "metadata": {},
   "outputs": [],
   "source": []
  },
  {
   "cell_type": "code",
   "execution_count": null,
   "metadata": {},
   "outputs": [],
   "source": []
  },
  {
   "cell_type": "code",
   "execution_count": null,
   "metadata": {},
   "outputs": [],
   "source": []
  }
 ],
 "metadata": {
  "kernelspec": {
   "display_name": "Python 3",
   "language": "python",
   "name": "python3"
  },
  "language_info": {
   "codemirror_mode": {
    "name": "ipython",
    "version": 3
   },
   "file_extension": ".py",
   "mimetype": "text/x-python",
   "name": "python",
   "nbconvert_exporter": "python",
   "pygments_lexer": "ipython3",
   "version": "3.7.6"
  }
 },
 "nbformat": 4,
 "nbformat_minor": 4
}
