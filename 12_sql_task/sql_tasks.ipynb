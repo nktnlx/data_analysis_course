{
 "cells": [
  {
   "cell_type": "code",
   "execution_count": null,
   "metadata": {},
   "outputs": [],
   "source": [
    "# LESSON 1"
   ]
  },
  {
   "cell_type": "code",
   "execution_count": null,
   "metadata": {},
   "outputs": [],
   "source": [
    "# Show the first 10 rows.\n",
    "SELECT \n",
    "  * \n",
    "FROM \n",
    "  checks \n",
    "LIMIT \n",
    "  10"
   ]
  },
  {
   "cell_type": "code",
   "execution_count": null,
   "metadata": {},
   "outputs": [],
   "source": [
    "# Show top-10 values in Rub column. Sort them in descending order.\n",
    "SELECT \n",
    "  * \n",
    "FROM \n",
    "  checks \n",
    "ORDER BY \n",
    "  Rub DESC \n",
    "LIMIT \n",
    "  10;"
   ]
  },
  {
   "cell_type": "code",
   "execution_count": null,
   "metadata": {},
   "outputs": [],
   "source": [
    "# Show the first 15 rows of the table renaming Rub to Revenue \n",
    "# and sort the result by UserID (ascending order).\n",
    "SELECT \n",
    "  Rub AS Revenue, \n",
    "  BuyDate, \n",
    "  UserID \n",
    "FROM \n",
    "  checks \n",
    "ORDER BY \n",
    "  UserID ASC \n",
    "LIMIT \n",
    "  15"
   ]
  },
  {
   "cell_type": "code",
   "execution_count": null,
   "metadata": {},
   "outputs": [],
   "source": [
    "# Show 10 unique UserID's. Sort the results by UserID in ascending order.\n",
    "SELECT \n",
    "  DISTINCT UserID \n",
    "FROM \n",
    "  checks \n",
    "ORDER BY \n",
    "  UserID ASC \n",
    "LIMIT \n",
    "  10"
   ]
  },
  {
   "cell_type": "code",
   "execution_count": null,
   "metadata": {},
   "outputs": [],
   "source": [
    "# Show the sales data: orders purchased on the 8th of March 2019.\n",
    "# Sort the results by Rub in descending order. Limit the data to the first 10 rows.\n",
    "SELECT \n",
    "  * \n",
    "FROM \n",
    "  checks \n",
    "WHERE \n",
    "  BuyDate IN ('2019-03-08') \n",
    "ORDER BY \n",
    "  Rub DESC \n",
    "LIMIT \n",
    "  10"
   ]
  },
  {
   "cell_type": "code",
   "execution_count": null,
   "metadata": {},
   "outputs": [],
   "source": [
    "# Show unique UserID's for buyers made purchase on the 1st of September 2019\n",
    "# and their expenditures were higer than 2000 rubles.\n",
    "# Sort the resul by UserID in descending order.\n",
    "SELECT \n",
    "  DISTINCT UserID \n",
    "FROM \n",
    "  checks \n",
    "WHERE \n",
    "  (\n",
    "    BuyDate = '2019-09-01' \n",
    "    AND Rub > 2000\n",
    "  ) \n",
    "ORDER BY \n",
    "  UserID DESC"
   ]
  },
  {
   "cell_type": "code",
   "execution_count": null,
   "metadata": {},
   "outputs": [],
   "source": []
  },
  {
   "cell_type": "code",
   "execution_count": null,
   "metadata": {},
   "outputs": [],
   "source": [
    "# LESSON 2"
   ]
  },
  {
   "cell_type": "code",
   "execution_count": null,
   "metadata": {},
   "outputs": [],
   "source": [
    "tbc.."
   ]
  },
  {
   "cell_type": "code",
   "execution_count": null,
   "metadata": {},
   "outputs": [],
   "source": []
  },
  {
   "cell_type": "code",
   "execution_count": null,
   "metadata": {},
   "outputs": [],
   "source": []
  },
  {
   "cell_type": "code",
   "execution_count": null,
   "metadata": {},
   "outputs": [],
   "source": []
  },
  {
   "cell_type": "code",
   "execution_count": null,
   "metadata": {},
   "outputs": [],
   "source": []
  },
  {
   "cell_type": "code",
   "execution_count": null,
   "metadata": {},
   "outputs": [],
   "source": []
  },
  {
   "cell_type": "code",
   "execution_count": null,
   "metadata": {},
   "outputs": [],
   "source": []
  },
  {
   "cell_type": "code",
   "execution_count": null,
   "metadata": {},
   "outputs": [],
   "source": []
  },
  {
   "cell_type": "code",
   "execution_count": null,
   "metadata": {},
   "outputs": [],
   "source": []
  },
  {
   "cell_type": "code",
   "execution_count": null,
   "metadata": {},
   "outputs": [],
   "source": []
  },
  {
   "cell_type": "code",
   "execution_count": null,
   "metadata": {},
   "outputs": [],
   "source": []
  },
  {
   "cell_type": "code",
   "execution_count": null,
   "metadata": {},
   "outputs": [],
   "source": []
  },
  {
   "cell_type": "code",
   "execution_count": null,
   "metadata": {},
   "outputs": [],
   "source": []
  },
  {
   "cell_type": "code",
   "execution_count": null,
   "metadata": {},
   "outputs": [],
   "source": []
  },
  {
   "cell_type": "code",
   "execution_count": null,
   "metadata": {},
   "outputs": [],
   "source": []
  },
  {
   "cell_type": "code",
   "execution_count": null,
   "metadata": {},
   "outputs": [],
   "source": []
  },
  {
   "cell_type": "code",
   "execution_count": null,
   "metadata": {},
   "outputs": [],
   "source": []
  },
  {
   "cell_type": "code",
   "execution_count": null,
   "metadata": {},
   "outputs": [],
   "source": []
  },
  {
   "cell_type": "code",
   "execution_count": null,
   "metadata": {},
   "outputs": [],
   "source": []
  },
  {
   "cell_type": "code",
   "execution_count": null,
   "metadata": {},
   "outputs": [],
   "source": []
  }
 ],
 "metadata": {
  "kernelspec": {
   "display_name": "Python 3",
   "language": "python",
   "name": "python3"
  },
  "language_info": {
   "codemirror_mode": {
    "name": "ipython",
    "version": 3
   },
   "file_extension": ".py",
   "mimetype": "text/x-python",
   "name": "python",
   "nbconvert_exporter": "python",
   "pygments_lexer": "ipython3",
   "version": "3.7.6"
  }
 },
 "nbformat": 4,
 "nbformat_minor": 4
}
