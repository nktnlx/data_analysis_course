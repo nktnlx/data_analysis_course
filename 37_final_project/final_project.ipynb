{
 "cells": [
  {
   "cell_type": "markdown",
   "metadata": {},
   "source": [
    "# Исследование данных игрового мобильного приложения"
   ]
  },
  {
   "cell_type": "markdown",
   "metadata": {},
   "source": [
    "Вы работаете в компании, которая разрабатывает мобильные игры. К вам пришел менеджер с рядом задач по исследованию нескольких аспектов мобильного приложения."
   ]
  },
  {
   "cell_type": "markdown",
   "metadata": {},
   "source": [
    "**Задачи:**\n",
    "1. В первую очередь, его интересует показатель retention. Напишите функцию для его подсчета.\n",
    "2. Помимо этого, в компании провели A/B тестирование наборов акционных предложений. На основе имеющихся данных определите, какой набор можно считать лучшим и на основе каких метрик стоит принять правильное решение.  \n",
    "3. Предложите метрики для оценки результатов последнего прошедшего тематического события в игре.  "
   ]
  },
  {
   "cell_type": "markdown",
   "metadata": {},
   "source": [
    "**Предоставленные данные:**  \n",
    "* `problem1-reg_data.csv` – данные о времени регистрации\n",
    "* `problem1-auth_data.csv` – данные о времени захода пользователей в игру  \n",
    "* `problem2.csv` – результаты A/B теста"
   ]
  },
  {
   "cell_type": "markdown",
   "metadata": {},
   "source": [
    "## Этапы выполнения проекта"
   ]
  },
  {
   "cell_type": "markdown",
   "metadata": {},
   "source": [
    "1. [Показатель Retention](#1.-Показатель-Retention)  \n",
    "   - [1.1 Задача](#1.1-Задача)\n",
    "   - [1.2 Загрузка данных](#1.2-Загрузка-данных)\n",
    "   - [1.3 Предобработка данных](#1.3-Предобработка-данных)\n",
    "   - [1.4 Расчет Retention](#1.4-Расчет-Retention)\n",
    "   - [1.5 Результаты](#1.5-Результаты)\n",
    "2. [A/B тестирование](#2.-A/B-тестирование)\n",
    "   - [2.1 Задача](#2.1-Задача)\n",
    "3. [Набор метрик для оценки результатов](#3.-Набор-метрик-для-оценки-результатов)"
   ]
  },
  {
   "cell_type": "code",
   "execution_count": 1,
   "metadata": {},
   "outputs": [],
   "source": [
    "# импорт библиотек\n",
    "import pandas as pd\n",
    "import seaborn as sns\n",
    "import matplotlib.pyplot as plt\n",
    "\n",
    "%matplotlib inline"
   ]
  },
  {
   "cell_type": "markdown",
   "metadata": {},
   "source": [
    "## 1. Показатель Retention"
   ]
  },
  {
   "cell_type": "markdown",
   "metadata": {},
   "source": [
    "### 1.1 Задача"
   ]
  },
  {
   "cell_type": "markdown",
   "metadata": {},
   "source": [
    "**Retention** – один из самых важных показателей в компании. Ваша задача – написать функцию, которая будет считать retention игроков (по дням от даты регистрации игрока). "
   ]
  },
  {
   "cell_type": "markdown",
   "metadata": {},
   "source": [
    "### 1.2 Загрузка данных"
   ]
  },
  {
   "cell_type": "markdown",
   "metadata": {},
   "source": [
    "Изучим данные, предоставленные для проекта."
   ]
  },
  {
   "cell_type": "markdown",
   "metadata": {},
   "source": [
    "#### Данные о времени регистрации"
   ]
  },
  {
   "cell_type": "markdown",
   "metadata": {},
   "source": [
    "Прочитаем файл `problem1-reg_data.csv` и сохраним его в переменной reg."
   ]
  },
  {
   "cell_type": "code",
   "execution_count": 2,
   "metadata": {},
   "outputs": [],
   "source": [
    "# чтение файла с данными с сохранением в reg\n",
    "reg = pd.read_csv('problem1-reg_data.csv', sep=';')"
   ]
  },
  {
   "cell_type": "markdown",
   "metadata": {},
   "source": [
    "Получение первых 10 строк таблицы."
   ]
  },
  {
   "cell_type": "code",
   "execution_count": 3,
   "metadata": {},
   "outputs": [
    {
     "data": {
      "text/html": [
       "<div>\n",
       "<style scoped>\n",
       "    .dataframe tbody tr th:only-of-type {\n",
       "        vertical-align: middle;\n",
       "    }\n",
       "\n",
       "    .dataframe tbody tr th {\n",
       "        vertical-align: top;\n",
       "    }\n",
       "\n",
       "    .dataframe thead th {\n",
       "        text-align: right;\n",
       "    }\n",
       "</style>\n",
       "<table border=\"1\" class=\"dataframe\">\n",
       "  <thead>\n",
       "    <tr style=\"text-align: right;\">\n",
       "      <th></th>\n",
       "      <th>reg_ts</th>\n",
       "      <th>uid</th>\n",
       "    </tr>\n",
       "  </thead>\n",
       "  <tbody>\n",
       "    <tr>\n",
       "      <th>0</th>\n",
       "      <td>911382223</td>\n",
       "      <td>1</td>\n",
       "    </tr>\n",
       "    <tr>\n",
       "      <th>1</th>\n",
       "      <td>932683089</td>\n",
       "      <td>2</td>\n",
       "    </tr>\n",
       "    <tr>\n",
       "      <th>2</th>\n",
       "      <td>947802447</td>\n",
       "      <td>3</td>\n",
       "    </tr>\n",
       "    <tr>\n",
       "      <th>3</th>\n",
       "      <td>959523541</td>\n",
       "      <td>4</td>\n",
       "    </tr>\n",
       "    <tr>\n",
       "      <th>4</th>\n",
       "      <td>969103313</td>\n",
       "      <td>5</td>\n",
       "    </tr>\n",
       "    <tr>\n",
       "      <th>5</th>\n",
       "      <td>977206495</td>\n",
       "      <td>6</td>\n",
       "    </tr>\n",
       "    <tr>\n",
       "      <th>6</th>\n",
       "      <td>984222671</td>\n",
       "      <td>7</td>\n",
       "    </tr>\n",
       "    <tr>\n",
       "      <th>7</th>\n",
       "      <td>990407778</td>\n",
       "      <td>8</td>\n",
       "    </tr>\n",
       "    <tr>\n",
       "      <th>8</th>\n",
       "      <td>995943765</td>\n",
       "      <td>9</td>\n",
       "    </tr>\n",
       "    <tr>\n",
       "      <th>9</th>\n",
       "      <td>1000951674</td>\n",
       "      <td>10</td>\n",
       "    </tr>\n",
       "  </tbody>\n",
       "</table>\n",
       "</div>"
      ],
      "text/plain": [
       "       reg_ts  uid\n",
       "0   911382223    1\n",
       "1   932683089    2\n",
       "2   947802447    3\n",
       "3   959523541    4\n",
       "4   969103313    5\n",
       "5   977206495    6\n",
       "6   984222671    7\n",
       "7   990407778    8\n",
       "8   995943765    9\n",
       "9  1000951674   10"
      ]
     },
     "execution_count": 3,
     "metadata": {},
     "output_type": "execute_result"
    }
   ],
   "source": [
    "# получение первых 10 строк таблицы.\n",
    "reg.head(10)"
   ]
  },
  {
   "cell_type": "markdown",
   "metadata": {},
   "source": [
    "Общая информация о данных таблицы reg."
   ]
  },
  {
   "cell_type": "code",
   "execution_count": 4,
   "metadata": {},
   "outputs": [
    {
     "name": "stdout",
     "output_type": "stream",
     "text": [
      "<class 'pandas.core.frame.DataFrame'>\n",
      "RangeIndex: 1000000 entries, 0 to 999999\n",
      "Data columns (total 2 columns):\n",
      " #   Column  Non-Null Count    Dtype\n",
      "---  ------  --------------    -----\n",
      " 0   reg_ts  1000000 non-null  int64\n",
      " 1   uid     1000000 non-null  int64\n",
      "dtypes: int64(2)\n",
      "memory usage: 15.3 MB\n"
     ]
    }
   ],
   "source": [
    "# получение общей информации о данных в таблице df\n",
    "reg.info()"
   ]
  },
  {
   "cell_type": "markdown",
   "metadata": {},
   "source": [
    "Рассмотрим полученную информацию подробнее."
   ]
  },
  {
   "cell_type": "markdown",
   "metadata": {},
   "source": [
    "Всего в таблице 2 столбца и 1000000 строк. Присутствует один тип данных: int64."
   ]
  },
  {
   "cell_type": "markdown",
   "metadata": {},
   "source": [
    "Подробно разберём, какие столбцы в reg содержат какую информацию:\n",
    "* reg_ts — время регистриации в формате Unix timestamp\n",
    "* uid — unique identifier (id пользователя)"
   ]
  },
  {
   "cell_type": "markdown",
   "metadata": {},
   "source": [
    "Количество значений в столбцах одинаковое, пропущенные значения отсутствуют."
   ]
  },
  {
   "cell_type": "markdown",
   "metadata": {},
   "source": [
    "#### Данные о времени захода пользователей в игру"
   ]
  },
  {
   "cell_type": "markdown",
   "metadata": {},
   "source": [
    "Прочитаем файл `problem1-auth_data.csv` и сохраним его в переменной reg."
   ]
  },
  {
   "cell_type": "code",
   "execution_count": 5,
   "metadata": {},
   "outputs": [],
   "source": [
    "# чтение файла с данными с сохранением в auth\n",
    "auth = pd.read_csv('problem1-auth_data.csv', sep=';')"
   ]
  },
  {
   "cell_type": "markdown",
   "metadata": {},
   "source": [
    "Получение первых 10 строк таблицы."
   ]
  },
  {
   "cell_type": "code",
   "execution_count": 6,
   "metadata": {},
   "outputs": [
    {
     "data": {
      "text/html": [
       "<div>\n",
       "<style scoped>\n",
       "    .dataframe tbody tr th:only-of-type {\n",
       "        vertical-align: middle;\n",
       "    }\n",
       "\n",
       "    .dataframe tbody tr th {\n",
       "        vertical-align: top;\n",
       "    }\n",
       "\n",
       "    .dataframe thead th {\n",
       "        text-align: right;\n",
       "    }\n",
       "</style>\n",
       "<table border=\"1\" class=\"dataframe\">\n",
       "  <thead>\n",
       "    <tr style=\"text-align: right;\">\n",
       "      <th></th>\n",
       "      <th>auth_ts</th>\n",
       "      <th>uid</th>\n",
       "    </tr>\n",
       "  </thead>\n",
       "  <tbody>\n",
       "    <tr>\n",
       "      <th>0</th>\n",
       "      <td>911382223</td>\n",
       "      <td>1</td>\n",
       "    </tr>\n",
       "    <tr>\n",
       "      <th>1</th>\n",
       "      <td>932683089</td>\n",
       "      <td>2</td>\n",
       "    </tr>\n",
       "    <tr>\n",
       "      <th>2</th>\n",
       "      <td>932921206</td>\n",
       "      <td>2</td>\n",
       "    </tr>\n",
       "    <tr>\n",
       "      <th>3</th>\n",
       "      <td>933393015</td>\n",
       "      <td>2</td>\n",
       "    </tr>\n",
       "    <tr>\n",
       "      <th>4</th>\n",
       "      <td>933875379</td>\n",
       "      <td>2</td>\n",
       "    </tr>\n",
       "    <tr>\n",
       "      <th>5</th>\n",
       "      <td>934372615</td>\n",
       "      <td>2</td>\n",
       "    </tr>\n",
       "    <tr>\n",
       "      <th>6</th>\n",
       "      <td>934662633</td>\n",
       "      <td>2</td>\n",
       "    </tr>\n",
       "    <tr>\n",
       "      <th>7</th>\n",
       "      <td>935002586</td>\n",
       "      <td>2</td>\n",
       "    </tr>\n",
       "    <tr>\n",
       "      <th>8</th>\n",
       "      <td>935141232</td>\n",
       "      <td>2</td>\n",
       "    </tr>\n",
       "    <tr>\n",
       "      <th>9</th>\n",
       "      <td>935682752</td>\n",
       "      <td>2</td>\n",
       "    </tr>\n",
       "  </tbody>\n",
       "</table>\n",
       "</div>"
      ],
      "text/plain": [
       "     auth_ts  uid\n",
       "0  911382223    1\n",
       "1  932683089    2\n",
       "2  932921206    2\n",
       "3  933393015    2\n",
       "4  933875379    2\n",
       "5  934372615    2\n",
       "6  934662633    2\n",
       "7  935002586    2\n",
       "8  935141232    2\n",
       "9  935682752    2"
      ]
     },
     "execution_count": 6,
     "metadata": {},
     "output_type": "execute_result"
    }
   ],
   "source": [
    "# получение первых 10 строк таблицы.\n",
    "auth.head(10)"
   ]
  },
  {
   "cell_type": "markdown",
   "metadata": {},
   "source": [
    "Общая информация о данных таблицы reg."
   ]
  },
  {
   "cell_type": "code",
   "execution_count": 7,
   "metadata": {},
   "outputs": [
    {
     "name": "stdout",
     "output_type": "stream",
     "text": [
      "<class 'pandas.core.frame.DataFrame'>\n",
      "RangeIndex: 9601013 entries, 0 to 9601012\n",
      "Data columns (total 2 columns):\n",
      " #   Column   Dtype\n",
      "---  ------   -----\n",
      " 0   auth_ts  int64\n",
      " 1   uid      int64\n",
      "dtypes: int64(2)\n",
      "memory usage: 146.5 MB\n"
     ]
    }
   ],
   "source": [
    "# получение общей информации о данных в таблице df\n",
    "auth.info()"
   ]
  },
  {
   "cell_type": "code",
   "execution_count": 8,
   "metadata": {},
   "outputs": [
    {
     "data": {
      "text/plain": [
       "auth_ts    0\n",
       "uid        0\n",
       "dtype: int64"
      ]
     },
     "execution_count": 8,
     "metadata": {},
     "output_type": "execute_result"
    }
   ],
   "source": [
    "# проверка наличия пропущенных значений.\n",
    "auth.isna().sum()"
   ]
  },
  {
   "cell_type": "code",
   "execution_count": 9,
   "metadata": {},
   "outputs": [
    {
     "data": {
      "text/plain": [
       "9601013"
      ]
     },
     "execution_count": 9,
     "metadata": {},
     "output_type": "execute_result"
    }
   ],
   "source": [
    "# получим количество строк в таблице\n",
    "auth.shape[0]"
   ]
  },
  {
   "cell_type": "markdown",
   "metadata": {},
   "source": [
    "Рассмотрим полученную информацию подробнее."
   ]
  },
  {
   "cell_type": "markdown",
   "metadata": {},
   "source": [
    "Всего в таблице 2 столбца и 9601013 строк. Присутствует один тип данных: int64."
   ]
  },
  {
   "cell_type": "markdown",
   "metadata": {},
   "source": [
    "Подробно разберём, какие столбцы в auth содержат какую информацию:\n",
    "* auth_ts — время захода пользователя в игру в формате Unix timestamp\n",
    "* uid — unique identifier (id пользователя)"
   ]
  },
  {
   "cell_type": "markdown",
   "metadata": {},
   "source": [
    "Количество значений в столбцах одинаковое, пропущенные значения отсутствуют."
   ]
  },
  {
   "cell_type": "markdown",
   "metadata": {},
   "source": [
    "#### Выводы"
   ]
  },
  {
   "cell_type": "markdown",
   "metadata": {},
   "source": [
    "Каждая строка таблицы содержит id пользователя и временную отметку о его действии (регистрации или времени захода в игру). Пропуски в данных отсутствуют."
   ]
  },
  {
   "cell_type": "markdown",
   "metadata": {},
   "source": [
    "На следующем этапе необходимо будет:\n",
    "* преобразовать временные отметки из формата Unix timestamp,\n",
    "* сконвертировать uid в строковый формат (исключить возможные потери нулей и дальнейшие возможные проблемы, правда за счет некоторой незначительной для данного объема данных потери эффективности)  \n",
    "* исследовать данные на наличие аномалий (например, регистрации с повторным присвоением уже использованного uid, аномальную частоту заходов пользователей в игру (отсечь ботов) и т.д.)"
   ]
  },
  {
   "cell_type": "markdown",
   "metadata": {},
   "source": [
    "### 1.3 Предобработка данных"
   ]
  },
  {
   "cell_type": "markdown",
   "metadata": {},
   "source": [
    "Сделаем преобразование временных отметок, сконвертируем uid в строковый формат и исследуем данные на наличие аномалий."
   ]
  },
  {
   "cell_type": "markdown",
   "metadata": {},
   "source": [
    "#### Данные о времени регистрации"
   ]
  },
  {
   "cell_type": "markdown",
   "metadata": {},
   "source": [
    "**Сделаем преобразование столбца с временными отметками из Unix timestamp.**"
   ]
  },
  {
   "cell_type": "code",
   "execution_count": 10,
   "metadata": {},
   "outputs": [],
   "source": [
    "# выполним преобразование\n",
    "reg['reg_ts'] = pd.to_datetime(reg['reg_ts'], unit='s')"
   ]
  },
  {
   "cell_type": "code",
   "execution_count": 11,
   "metadata": {},
   "outputs": [
    {
     "name": "stdout",
     "output_type": "stream",
     "text": [
      "<class 'pandas.core.frame.DataFrame'>\n",
      "RangeIndex: 1000000 entries, 0 to 999999\n",
      "Data columns (total 2 columns):\n",
      " #   Column  Non-Null Count    Dtype         \n",
      "---  ------  --------------    -----         \n",
      " 0   reg_ts  1000000 non-null  datetime64[ns]\n",
      " 1   uid     1000000 non-null  int64         \n",
      "dtypes: datetime64[ns](1), int64(1)\n",
      "memory usage: 15.3 MB\n"
     ]
    }
   ],
   "source": [
    "# посмотрим результаты преобразования\n",
    "reg.info()"
   ]
  },
  {
   "cell_type": "markdown",
   "metadata": {},
   "source": [
    "Ознакомимся с распределением диапазона дат."
   ]
  },
  {
   "cell_type": "code",
   "execution_count": 12,
   "metadata": {},
   "outputs": [
    {
     "data": {
      "text/plain": [
       "count                          1000000\n",
       "mean     2019-01-24 12:12:34.523629056\n",
       "min                1998-11-18 09:43:43\n",
       "25%         2018-06-03 13:55:11.500000\n",
       "50%                2019-07-30 02:35:25\n",
       "75%      2020-04-01 16:28:40.499999744\n",
       "max                2020-09-23 15:17:24\n",
       "Name: reg_ts, dtype: object"
      ]
     },
     "execution_count": 12,
     "metadata": {},
     "output_type": "execute_result"
    }
   ],
   "source": [
    "# посмотрим описательную статистику\n",
    "reg.reg_ts.describe(include='all', datetime_is_numeric=True)"
   ]
  },
  {
   "cell_type": "markdown",
   "metadata": {},
   "source": [
    "Видим, что полный диапазон дат имеет значения от 1998-11-18 до 2020-09-23. Нижняя граница диапазона выглядит сомнительно, т.к. у мы разрабатываем мобильные игры."
   ]
  },
  {
   "cell_type": "markdown",
   "metadata": {},
   "source": [
    "Проверим процентое соотношение количества регистраций в тот или иной год."
   ]
  },
  {
   "cell_type": "code",
   "execution_count": 13,
   "metadata": {},
   "outputs": [],
   "source": [
    "# сгруппируем данные по года и посчитаем количество регистраций в процентах\n",
    "reg_by_year = reg.reg_ts.dt.year.value_counts(normalize=True) \\\n",
    "                 .reset_index() \\\n",
    "                 .rename(columns={'index': 'year', 'reg_ts': 'regs_pct'}) "
   ]
  },
  {
   "cell_type": "code",
   "execution_count": 14,
   "metadata": {},
   "outputs": [
    {
     "data": {
      "text/html": [
       "<div>\n",
       "<style scoped>\n",
       "    .dataframe tbody tr th:only-of-type {\n",
       "        vertical-align: middle;\n",
       "    }\n",
       "\n",
       "    .dataframe tbody tr th {\n",
       "        vertical-align: top;\n",
       "    }\n",
       "\n",
       "    .dataframe thead th {\n",
       "        text-align: right;\n",
       "    }\n",
       "</style>\n",
       "<table border=\"1\" class=\"dataframe\">\n",
       "  <thead>\n",
       "    <tr style=\"text-align: right;\">\n",
       "      <th></th>\n",
       "      <th>year</th>\n",
       "      <th>regs_pct</th>\n",
       "    </tr>\n",
       "  </thead>\n",
       "  <tbody>\n",
       "    <tr>\n",
       "      <th>0</th>\n",
       "      <td>2020</td>\n",
       "      <td>0.354963</td>\n",
       "    </tr>\n",
       "    <tr>\n",
       "      <th>1</th>\n",
       "      <td>2019</td>\n",
       "      <td>0.291102</td>\n",
       "    </tr>\n",
       "    <tr>\n",
       "      <th>2</th>\n",
       "      <td>2018</td>\n",
       "      <td>0.159729</td>\n",
       "    </tr>\n",
       "    <tr>\n",
       "      <th>3</th>\n",
       "      <td>2017</td>\n",
       "      <td>0.087645</td>\n",
       "    </tr>\n",
       "    <tr>\n",
       "      <th>4</th>\n",
       "      <td>2016</td>\n",
       "      <td>0.048187</td>\n",
       "    </tr>\n",
       "    <tr>\n",
       "      <th>5</th>\n",
       "      <td>2015</td>\n",
       "      <td>0.026344</td>\n",
       "    </tr>\n",
       "    <tr>\n",
       "      <th>6</th>\n",
       "      <td>2014</td>\n",
       "      <td>0.014455</td>\n",
       "    </tr>\n",
       "  </tbody>\n",
       "</table>\n",
       "</div>"
      ],
      "text/plain": [
       "   year  regs_pct\n",
       "0  2020  0.354963\n",
       "1  2019  0.291102\n",
       "2  2018  0.159729\n",
       "3  2017  0.087645\n",
       "4  2016  0.048187\n",
       "5  2015  0.026344\n",
       "6  2014  0.014455"
      ]
     },
     "execution_count": 14,
     "metadata": {},
     "output_type": "execute_result"
    }
   ],
   "source": [
    "# посмотрим на года с количеством регистраций больше одного процента\n",
    "reg_by_year[reg_by_year['regs_pct'] >= 0.01]"
   ]
  },
  {
   "cell_type": "markdown",
   "metadata": {},
   "source": [
    "Дальше будем работать с данными начиная с 2014 года. Остальные данные будем считать выбросами и исключим из таблицы."
   ]
  },
  {
   "cell_type": "code",
   "execution_count": 15,
   "metadata": {},
   "outputs": [],
   "source": [
    "# сохраним данные в переменную reg_14\n",
    "reg_14 = reg[reg.loc[:, 'reg_ts'] > '2014-01-01 00:00:00.000000000']"
   ]
  },
  {
   "cell_type": "code",
   "execution_count": 16,
   "metadata": {},
   "outputs": [],
   "source": [
    "# сбросим индексы\n",
    "reg_14.reset_index(inplace=True, drop=True)"
   ]
  },
  {
   "cell_type": "code",
   "execution_count": 17,
   "metadata": {},
   "outputs": [
    {
     "data": {
      "text/plain": [
       "count                           982425\n",
       "mean     2019-03-09 11:11:10.245470208\n",
       "min                2014-01-01 00:03:11\n",
       "25%                2018-07-04 19:51:14\n",
       "50%                2019-08-09 16:52:29\n",
       "75%                2020-04-05 05:43:58\n",
       "max                2020-09-23 15:17:24\n",
       "Name: reg_ts, dtype: object"
      ]
     },
     "execution_count": 17,
     "metadata": {},
     "output_type": "execute_result"
    }
   ],
   "source": [
    "# посмотрим описательную статистику\n",
    "reg_14.reg_ts.describe(include='all', datetime_is_numeric=True)"
   ]
  },
  {
   "cell_type": "code",
   "execution_count": 18,
   "metadata": {},
   "outputs": [
    {
     "data": {
      "text/plain": [
       "17575"
      ]
     },
     "execution_count": 18,
     "metadata": {},
     "output_type": "execute_result"
    }
   ],
   "source": [
    "# посмотрим количество отсеченных строк\n",
    "reg.shape[0] - reg_14.shape[0]"
   ]
  },
  {
   "cell_type": "code",
   "execution_count": 19,
   "metadata": {},
   "outputs": [
    {
     "data": {
      "text/plain": [
       "1.76"
      ]
     },
     "execution_count": 19,
     "metadata": {},
     "output_type": "execute_result"
    }
   ],
   "source": [
    "# количество отсеченных строк в процентном соотношении\n",
    "round((reg.shape[0] - reg_14.shape[0]) * 100 / reg.shape[0], 2)"
   ]
  },
  {
   "cell_type": "markdown",
   "metadata": {},
   "source": [
    "Видим, что данные раньше 2014 года были отсечены (17575 строк или 1.76%)."
   ]
  },
  {
   "cell_type": "markdown",
   "metadata": {},
   "source": [
    "**Преобразуем значения uid в строковый формат данных**"
   ]
  },
  {
   "cell_type": "code",
   "execution_count": 20,
   "metadata": {},
   "outputs": [
    {
     "name": "stderr",
     "output_type": "stream",
     "text": [
      "/home/nktnlx/yes/lib/python3.7/site-packages/pandas/core/indexing.py:1745: SettingWithCopyWarning: \n",
      "A value is trying to be set on a copy of a slice from a DataFrame.\n",
      "Try using .loc[row_indexer,col_indexer] = value instead\n",
      "\n",
      "See the caveats in the documentation: https://pandas.pydata.org/pandas-docs/stable/user_guide/indexing.html#returning-a-view-versus-a-copy\n",
      "  isetter(ilocs[0], value)\n"
     ]
    }
   ],
   "source": [
    "# преобразование типа данных столбца uid в строковые значения\n",
    "reg_14.loc[:, ['uid']] = reg_14['uid'].astype('str')"
   ]
  },
  {
   "cell_type": "code",
   "execution_count": 21,
   "metadata": {},
   "outputs": [
    {
     "data": {
      "text/plain": [
       "reg_ts    datetime64[ns]\n",
       "uid               object\n",
       "dtype: object"
      ]
     },
     "execution_count": 21,
     "metadata": {},
     "output_type": "execute_result"
    }
   ],
   "source": [
    "# проверим верность выполнения\n",
    "reg_14.dtypes"
   ]
  },
  {
   "cell_type": "markdown",
   "metadata": {},
   "source": [
    "Преобразование uid в строковый формат было выполнено успешно."
   ]
  },
  {
   "cell_type": "markdown",
   "metadata": {},
   "source": [
    "**Проверим наличие регистраций пользователей с повторным присвоением уже использованного uid**"
   ]
  },
  {
   "cell_type": "code",
   "execution_count": 22,
   "metadata": {},
   "outputs": [
    {
     "data": {
      "text/plain": [
       "0"
      ]
     },
     "execution_count": 22,
     "metadata": {},
     "output_type": "execute_result"
    }
   ],
   "source": [
    "# отобразим количество встреченных дубликатов uid\n",
    "reg_14.uid.duplicated().sum()"
   ]
  },
  {
   "cell_type": "markdown",
   "metadata": {},
   "source": [
    "Повторного использования уже выданных uid не обнаружено."
   ]
  },
  {
   "cell_type": "markdown",
   "metadata": {},
   "source": [
    "#### Данные о времени захода пользователей в игру"
   ]
  },
  {
   "cell_type": "markdown",
   "metadata": {},
   "source": [
    "**Сделаем преобразование столбца с временными отметками из Unix timestamp.**"
   ]
  },
  {
   "cell_type": "code",
   "execution_count": 23,
   "metadata": {},
   "outputs": [],
   "source": [
    "# выполним преобразование\n",
    "auth['auth_ts'] = pd.to_datetime(auth['auth_ts'], unit='s')"
   ]
  },
  {
   "cell_type": "code",
   "execution_count": 24,
   "metadata": {},
   "outputs": [
    {
     "name": "stdout",
     "output_type": "stream",
     "text": [
      "<class 'pandas.core.frame.DataFrame'>\n",
      "RangeIndex: 9601013 entries, 0 to 9601012\n",
      "Data columns (total 2 columns):\n",
      " #   Column   Dtype         \n",
      "---  ------   -----         \n",
      " 0   auth_ts  datetime64[ns]\n",
      " 1   uid      int64         \n",
      "dtypes: datetime64[ns](1), int64(1)\n",
      "memory usage: 146.5 MB\n"
     ]
    }
   ],
   "source": [
    "# посмотрим результаты преобразования\n",
    "auth.info()"
   ]
  },
  {
   "cell_type": "markdown",
   "metadata": {},
   "source": [
    "Ознакомимся с распределением диапазона дат."
   ]
  },
  {
   "cell_type": "code",
   "execution_count": 25,
   "metadata": {},
   "outputs": [
    {
     "data": {
      "text/plain": [
       "count                          9601013\n",
       "mean     2019-01-29 16:12:06.254660096\n",
       "min                1998-11-18 09:43:43\n",
       "25%                2018-06-07 12:40:47\n",
       "50%                2019-07-31 12:43:16\n",
       "75%                2020-04-02 10:25:21\n",
       "max                2020-09-23 15:17:24\n",
       "Name: auth_ts, dtype: object"
      ]
     },
     "execution_count": 25,
     "metadata": {},
     "output_type": "execute_result"
    }
   ],
   "source": [
    "# посмотрим описательную статистику\n",
    "auth.auth_ts.describe(include='all', datetime_is_numeric=True)"
   ]
  },
  {
   "cell_type": "markdown",
   "metadata": {},
   "source": [
    "Видим, что полный диапазон дат имеет значения от 1998-11-18 до 2020-09-23."
   ]
  },
  {
   "cell_type": "markdown",
   "metadata": {},
   "source": [
    "Как и для случая с регистрациями оставим только значения начиная с 2014 года. Остальные данные будем считать выбросами и исключим из таблицы."
   ]
  },
  {
   "cell_type": "code",
   "execution_count": 26,
   "metadata": {},
   "outputs": [],
   "source": [
    "# сохраним данные в переменную auth_14\n",
    "auth_14 = auth[auth.loc[:, 'auth_ts'] > '2014-01-01 00:00:00.000000000']"
   ]
  },
  {
   "cell_type": "code",
   "execution_count": 27,
   "metadata": {},
   "outputs": [],
   "source": [
    "# сбросим индексы\n",
    "auth_14.reset_index(inplace=True, drop=True)"
   ]
  },
  {
   "cell_type": "code",
   "execution_count": 28,
   "metadata": {},
   "outputs": [
    {
     "data": {
      "text/plain": [
       "count                          9445996\n",
       "mean     2019-03-10 11:48:49.205278464\n",
       "min                2014-01-01 00:03:11\n",
       "25%         2018-07-05 22:59:18.500000\n",
       "50%                2019-08-10 05:59:40\n",
       "75%      2020-04-05 16:38:24.249999872\n",
       "max                2020-09-23 15:17:24\n",
       "Name: auth_ts, dtype: object"
      ]
     },
     "execution_count": 28,
     "metadata": {},
     "output_type": "execute_result"
    }
   ],
   "source": [
    "# посмотрим описательную статистику\n",
    "auth_14.auth_ts.describe(include='all', datetime_is_numeric=True)"
   ]
  },
  {
   "cell_type": "code",
   "execution_count": 29,
   "metadata": {},
   "outputs": [
    {
     "data": {
      "text/plain": [
       "155017"
      ]
     },
     "execution_count": 29,
     "metadata": {},
     "output_type": "execute_result"
    }
   ],
   "source": [
    "# посмотрим количество отсеченных строк\n",
    "auth.shape[0] - auth_14.shape[0]"
   ]
  },
  {
   "cell_type": "code",
   "execution_count": 30,
   "metadata": {},
   "outputs": [
    {
     "data": {
      "text/plain": [
       "1.61"
      ]
     },
     "execution_count": 30,
     "metadata": {},
     "output_type": "execute_result"
    }
   ],
   "source": [
    "# количество отсеченных строк в процентном соотношении\n",
    "round((auth.shape[0] - auth_14.shape[0]) * 100 / auth.shape[0], 2)"
   ]
  },
  {
   "cell_type": "markdown",
   "metadata": {},
   "source": [
    "Видим, что данные раньше 2014 года были отсечены (155017 строк или 1.61%)."
   ]
  },
  {
   "cell_type": "markdown",
   "metadata": {},
   "source": [
    "**Преобразуем значения uid в строковый формат данных**"
   ]
  },
  {
   "cell_type": "code",
   "execution_count": 31,
   "metadata": {},
   "outputs": [],
   "source": [
    "# преобразование типа данных столбца uid в строковые значения\n",
    "auth_14.loc[:, ['uid']] = auth_14['uid'].astype('str')"
   ]
  },
  {
   "cell_type": "code",
   "execution_count": 32,
   "metadata": {},
   "outputs": [
    {
     "data": {
      "text/plain": [
       "auth_ts    datetime64[ns]\n",
       "uid                object\n",
       "dtype: object"
      ]
     },
     "execution_count": 32,
     "metadata": {},
     "output_type": "execute_result"
    }
   ],
   "source": [
    "# проверим верность выполнения\n",
    "auth_14.dtypes"
   ]
  },
  {
   "cell_type": "markdown",
   "metadata": {},
   "source": [
    "Преобразование uid в строковый формат было выполнено успешно."
   ]
  },
  {
   "cell_type": "markdown",
   "metadata": {},
   "source": [
    "**Изучим статистику заходов пользователей в игру.**"
   ]
  },
  {
   "cell_type": "code",
   "execution_count": 33,
   "metadata": {},
   "outputs": [],
   "source": [
    "# группировка по пользователям и подсчет количества заходов в игру\n",
    "auth_freq = auth_14.groupby('uid', as_index=False) \\\n",
    "                   .agg({'auth_ts': 'count'}) \\\n",
    "                   .rename(columns={'auth_ts': 'visits'}) \\\n",
    "                   .sort_values('visits', ascending=False)"
   ]
  },
  {
   "cell_type": "code",
   "execution_count": 34,
   "metadata": {},
   "outputs": [
    {
     "data": {
      "text/plain": [
       "count    983392.000000\n",
       "mean          9.605525\n",
       "std          45.489029\n",
       "min           1.000000\n",
       "25%           1.000000\n",
       "50%           1.000000\n",
       "75%           1.000000\n",
       "max         647.000000\n",
       "Name: visits, dtype: float64"
      ]
     },
     "execution_count": 34,
     "metadata": {},
     "output_type": "execute_result"
    }
   ],
   "source": [
    "# описательная статистика распределения числа заходов пользователей в игру\n",
    "auth_freq.visits.describe()"
   ]
  },
  {
   "cell_type": "markdown",
   "metadata": {},
   "source": [
    "Максимальное количество заходов в игру сильно отличается от среднего и медианного значения. Проверим время между заходами, чтобы исключить заходы ботов."
   ]
  },
  {
   "cell_type": "code",
   "execution_count": 35,
   "metadata": {},
   "outputs": [],
   "source": [
    "# группировка по пользователям и сортировка по времени захода\n",
    "auth_14_delta = auth_14.reset_index() \\\n",
    "                       .groupby(['index', 'uid', 'auth_ts'], as_index=False) \\\n",
    "                       .agg({'index': 'count'}) \\\n",
    "                       .drop(columns='index') \\\n",
    "                       .sort_values(['uid', 'auth_ts'])"
   ]
  },
  {
   "cell_type": "code",
   "execution_count": 36,
   "metadata": {},
   "outputs": [
    {
     "data": {
      "text/html": [
       "<div>\n",
       "<style scoped>\n",
       "    .dataframe tbody tr th:only-of-type {\n",
       "        vertical-align: middle;\n",
       "    }\n",
       "\n",
       "    .dataframe tbody tr th {\n",
       "        vertical-align: top;\n",
       "    }\n",
       "\n",
       "    .dataframe thead th {\n",
       "        text-align: right;\n",
       "    }\n",
       "</style>\n",
       "<table border=\"1\" class=\"dataframe\">\n",
       "  <thead>\n",
       "    <tr style=\"text-align: right;\">\n",
       "      <th></th>\n",
       "      <th>uid</th>\n",
       "      <th>auth_ts</th>\n",
       "      <th>delta</th>\n",
       "    </tr>\n",
       "  </thead>\n",
       "  <tbody>\n",
       "    <tr>\n",
       "      <th>690733</th>\n",
       "      <td>100000</td>\n",
       "      <td>2016-09-20 02:33:46</td>\n",
       "      <td>NaT</td>\n",
       "    </tr>\n",
       "    <tr>\n",
       "      <th>8485653</th>\n",
       "      <td>1000000</td>\n",
       "      <td>2020-07-21 19:58:14</td>\n",
       "      <td>1400 days 17:24:28</td>\n",
       "    </tr>\n",
       "    <tr>\n",
       "      <th>8485662</th>\n",
       "      <td>1000001</td>\n",
       "      <td>2020-07-21 19:59:12</td>\n",
       "      <td>0 days 00:00:58</td>\n",
       "    </tr>\n",
       "    <tr>\n",
       "      <th>8553022</th>\n",
       "      <td>1000001</td>\n",
       "      <td>2020-07-26 12:14:31</td>\n",
       "      <td>4 days 16:15:19</td>\n",
       "    </tr>\n",
       "    <tr>\n",
       "      <th>8593456</th>\n",
       "      <td>1000001</td>\n",
       "      <td>2020-07-29 07:45:01</td>\n",
       "      <td>2 days 19:30:30</td>\n",
       "    </tr>\n",
       "    <tr>\n",
       "      <th>...</th>\n",
       "      <td>...</td>\n",
       "      <td>...</td>\n",
       "      <td>...</td>\n",
       "    </tr>\n",
       "    <tr>\n",
       "      <th>9097164</th>\n",
       "      <td>999999</td>\n",
       "      <td>2020-09-01 04:42:45</td>\n",
       "      <td>3 days 12:16:06</td>\n",
       "    </tr>\n",
       "    <tr>\n",
       "      <th>9151803</th>\n",
       "      <td>999999</td>\n",
       "      <td>2020-09-04 18:14:23</td>\n",
       "      <td>3 days 13:31:38</td>\n",
       "    </tr>\n",
       "    <tr>\n",
       "      <th>9231540</th>\n",
       "      <td>999999</td>\n",
       "      <td>2020-09-09 22:14:16</td>\n",
       "      <td>5 days 03:59:53</td>\n",
       "    </tr>\n",
       "    <tr>\n",
       "      <th>9328627</th>\n",
       "      <td>999999</td>\n",
       "      <td>2020-09-16 03:59:54</td>\n",
       "      <td>6 days 05:45:38</td>\n",
       "    </tr>\n",
       "    <tr>\n",
       "      <th>9429244</th>\n",
       "      <td>999999</td>\n",
       "      <td>2020-09-22 13:10:02</td>\n",
       "      <td>6 days 09:10:08</td>\n",
       "    </tr>\n",
       "  </tbody>\n",
       "</table>\n",
       "<p>9445996 rows × 3 columns</p>\n",
       "</div>"
      ],
      "text/plain": [
       "             uid             auth_ts              delta\n",
       "690733    100000 2016-09-20 02:33:46                NaT\n",
       "8485653  1000000 2020-07-21 19:58:14 1400 days 17:24:28\n",
       "8485662  1000001 2020-07-21 19:59:12    0 days 00:00:58\n",
       "8553022  1000001 2020-07-26 12:14:31    4 days 16:15:19\n",
       "8593456  1000001 2020-07-29 07:45:01    2 days 19:30:30\n",
       "...          ...                 ...                ...\n",
       "9097164   999999 2020-09-01 04:42:45    3 days 12:16:06\n",
       "9151803   999999 2020-09-04 18:14:23    3 days 13:31:38\n",
       "9231540   999999 2020-09-09 22:14:16    5 days 03:59:53\n",
       "9328627   999999 2020-09-16 03:59:54    6 days 05:45:38\n",
       "9429244   999999 2020-09-22 13:10:02    6 days 09:10:08\n",
       "\n",
       "[9445996 rows x 3 columns]"
      ]
     },
     "execution_count": 36,
     "metadata": {},
     "output_type": "execute_result"
    }
   ],
   "source": [
    "# подсчет разницы во времени между заходами\n",
    "auth_14_delta['delta'] = auth_14_delta.auth_ts.diff(periods=1)\n",
    "\n",
    "auth_14_delta"
   ]
  },
  {
   "cell_type": "code",
   "execution_count": 37,
   "metadata": {},
   "outputs": [],
   "source": [
    "# убираем всех у кого между сессиями меньше 5 минут \n",
    "# (возможные боты и пользователи не ставшие играть / случайные заходы в игру)\n",
    "auth_14_delta = auth_14_delta[auth_14_delta['delta'] >= '0 days 00:05:00']"
   ]
  },
  {
   "cell_type": "code",
   "execution_count": 38,
   "metadata": {},
   "outputs": [],
   "source": [
    "# сформируем перечень \"нормальных\" пользователей (не боты и не случайные заходы)\n",
    "active_uids = auth_14_delta.uid.unique()"
   ]
  },
  {
   "cell_type": "code",
   "execution_count": 39,
   "metadata": {},
   "outputs": [],
   "source": [
    "# уберем uid с аномальным числом заходов в игру из auth_14\n",
    "auth_14_cleaned = auth_14.query('uid in @active_uids')"
   ]
  },
  {
   "cell_type": "code",
   "execution_count": 40,
   "metadata": {},
   "outputs": [
    {
     "data": {
      "text/plain": [
       "645083"
      ]
     },
     "execution_count": 40,
     "metadata": {},
     "output_type": "execute_result"
    }
   ],
   "source": [
    "# посмотрим количество отсеченных строк\n",
    "auth_14.shape[0] - auth_14_cleaned.shape[0]"
   ]
  },
  {
   "cell_type": "code",
   "execution_count": 41,
   "metadata": {},
   "outputs": [
    {
     "data": {
      "text/plain": [
       "6.83"
      ]
     },
     "execution_count": 41,
     "metadata": {},
     "output_type": "execute_result"
    }
   ],
   "source": [
    "# количество отсеченных строк в процентном соотношении\n",
    "round((auth_14.shape[0] - auth_14_cleaned.shape[0]) * 100 / auth_14.shape[0], 2)"
   ]
  },
  {
   "cell_type": "markdown",
   "metadata": {},
   "source": [
    "Было отброшено 645083 аномальных строк (по частоте заходов в игру), что составляет 6.83%."
   ]
  },
  {
   "cell_type": "markdown",
   "metadata": {},
   "source": [
    "#### Выводы"
   ]
  },
  {
   "cell_type": "markdown",
   "metadata": {},
   "source": [
    "Была произведена смена форматов данных (Unix timestamp --> date time; uid из целочисленых в строковые значения), проверка на дублирующие значения uid после регистрации (дубликатов выявлено не было), удаление не релевантных по дате данных (оставили данные начиная с 2014 года), а так же поиск и удаление аномальных значений по частоте захода в игру (удалено порядка 7% данных -- возможно боты или случайные заходы пользователей в игру, без самого процесса игры)."
   ]
  },
  {
   "cell_type": "markdown",
   "metadata": {},
   "source": [
    "На следующем этапе необходимо будет посчитать retention пользователей."
   ]
  },
  {
   "cell_type": "markdown",
   "metadata": {},
   "source": [
    "### 1.4 Расчет Retention"
   ]
  },
  {
   "cell_type": "markdown",
   "metadata": {},
   "source": [
    "#### Подготовка данных"
   ]
  },
  {
   "cell_type": "markdown",
   "metadata": {},
   "source": [
    "Посчитаем retention (уровень удержания) игроков по дням от даты регистрации игрока. "
   ]
  },
  {
   "cell_type": "code",
   "execution_count": 42,
   "metadata": {},
   "outputs": [
    {
     "data": {
      "text/html": [
       "<div>\n",
       "<style scoped>\n",
       "    .dataframe tbody tr th:only-of-type {\n",
       "        vertical-align: middle;\n",
       "    }\n",
       "\n",
       "    .dataframe tbody tr th {\n",
       "        vertical-align: top;\n",
       "    }\n",
       "\n",
       "    .dataframe thead th {\n",
       "        text-align: right;\n",
       "    }\n",
       "</style>\n",
       "<table border=\"1\" class=\"dataframe\">\n",
       "  <thead>\n",
       "    <tr style=\"text-align: right;\">\n",
       "      <th></th>\n",
       "      <th>auth_ts</th>\n",
       "      <th>uid</th>\n",
       "      <th>reg_ts</th>\n",
       "    </tr>\n",
       "  </thead>\n",
       "  <tbody>\n",
       "    <tr>\n",
       "      <th>0</th>\n",
       "      <td>2014-01-01 00:04:58</td>\n",
       "      <td>5460</td>\n",
       "      <td>NaT</td>\n",
       "    </tr>\n",
       "    <tr>\n",
       "      <th>1</th>\n",
       "      <td>2014-01-01 00:07:08</td>\n",
       "      <td>14320</td>\n",
       "      <td>NaT</td>\n",
       "    </tr>\n",
       "    <tr>\n",
       "      <th>2</th>\n",
       "      <td>2014-01-01 00:07:40</td>\n",
       "      <td>584</td>\n",
       "      <td>NaT</td>\n",
       "    </tr>\n",
       "    <tr>\n",
       "      <th>3</th>\n",
       "      <td>2014-01-01 00:11:19</td>\n",
       "      <td>17025</td>\n",
       "      <td>NaT</td>\n",
       "    </tr>\n",
       "    <tr>\n",
       "      <th>4</th>\n",
       "      <td>2014-01-01 00:12:46</td>\n",
       "      <td>5939</td>\n",
       "      <td>NaT</td>\n",
       "    </tr>\n",
       "    <tr>\n",
       "      <th>...</th>\n",
       "      <td>...</td>\n",
       "      <td>...</td>\n",
       "      <td>...</td>\n",
       "    </tr>\n",
       "    <tr>\n",
       "      <th>8800908</th>\n",
       "      <td>2020-09-23 14:36:14</td>\n",
       "      <td>1110570</td>\n",
       "      <td>2020-09-23 14:36:14</td>\n",
       "    </tr>\n",
       "    <tr>\n",
       "      <th>8800909</th>\n",
       "      <td>2020-09-23 14:43:15</td>\n",
       "      <td>1110580</td>\n",
       "      <td>2020-09-23 14:43:15</td>\n",
       "    </tr>\n",
       "    <tr>\n",
       "      <th>8800910</th>\n",
       "      <td>2020-09-23 14:50:15</td>\n",
       "      <td>1110591</td>\n",
       "      <td>2020-09-23 14:50:15</td>\n",
       "    </tr>\n",
       "    <tr>\n",
       "      <th>8800911</th>\n",
       "      <td>2020-09-23 14:58:08</td>\n",
       "      <td>1110600</td>\n",
       "      <td>2020-09-23 14:58:08</td>\n",
       "    </tr>\n",
       "    <tr>\n",
       "      <th>8800912</th>\n",
       "      <td>2020-09-23 15:06:53</td>\n",
       "      <td>1110610</td>\n",
       "      <td>2020-09-23 15:06:53</td>\n",
       "    </tr>\n",
       "  </tbody>\n",
       "</table>\n",
       "<p>8800913 rows × 3 columns</p>\n",
       "</div>"
      ],
      "text/plain": [
       "                    auth_ts      uid              reg_ts\n",
       "0       2014-01-01 00:04:58     5460                 NaT\n",
       "1       2014-01-01 00:07:08    14320                 NaT\n",
       "2       2014-01-01 00:07:40      584                 NaT\n",
       "3       2014-01-01 00:11:19    17025                 NaT\n",
       "4       2014-01-01 00:12:46     5939                 NaT\n",
       "...                     ...      ...                 ...\n",
       "8800908 2020-09-23 14:36:14  1110570 2020-09-23 14:36:14\n",
       "8800909 2020-09-23 14:43:15  1110580 2020-09-23 14:43:15\n",
       "8800910 2020-09-23 14:50:15  1110591 2020-09-23 14:50:15\n",
       "8800911 2020-09-23 14:58:08  1110600 2020-09-23 14:58:08\n",
       "8800912 2020-09-23 15:06:53  1110610 2020-09-23 15:06:53\n",
       "\n",
       "[8800913 rows x 3 columns]"
      ]
     },
     "execution_count": 42,
     "metadata": {},
     "output_type": "execute_result"
    }
   ],
   "source": [
    "# объединим таблицы в один датафрейм по uid\n",
    "data = auth_14_cleaned.merge(reg_14, how='left', on='uid')\n",
    "\n",
    "data"
   ]
  },
  {
   "cell_type": "markdown",
   "metadata": {},
   "source": [
    "Были обнаружены пользователи со временем захода в приложение, но без времени регистрации. Посмотрим общее количество таких пользователей."
   ]
  },
  {
   "cell_type": "code",
   "execution_count": 43,
   "metadata": {},
   "outputs": [
    {
     "data": {
      "text/plain": [
       "520363"
      ]
     },
     "execution_count": 43,
     "metadata": {},
     "output_type": "execute_result"
    }
   ],
   "source": [
    "# Определяем количество строк без значений времени регистрации\n",
    "data.reg_ts.isna().sum()"
   ]
  },
  {
   "cell_type": "markdown",
   "metadata": {},
   "source": [
    "Уберем таких пользователей из данных, т.к. по ним не возможно будет построить retention от даты регистрации."
   ]
  },
  {
   "cell_type": "code",
   "execution_count": 44,
   "metadata": {},
   "outputs": [],
   "source": [
    "# уберем пользователей без времени регистрации\n",
    "data.dropna(subset=['reg_ts'], inplace=True)"
   ]
  },
  {
   "cell_type": "code",
   "execution_count": 45,
   "metadata": {},
   "outputs": [],
   "source": [
    "# сбросим индекс\n",
    "data.reset_index(drop=True, inplace=True)"
   ]
  },
  {
   "cell_type": "code",
   "execution_count": 46,
   "metadata": {},
   "outputs": [
    {
     "data": {
      "text/plain": [
       "520363"
      ]
     },
     "execution_count": 46,
     "metadata": {},
     "output_type": "execute_result"
    }
   ],
   "source": [
    "# посмотрим количество отсеченных строк\n",
    "auth_14_cleaned.shape[0] - data.shape[0]"
   ]
  },
  {
   "cell_type": "code",
   "execution_count": 47,
   "metadata": {},
   "outputs": [
    {
     "data": {
      "text/plain": [
       "5.91"
      ]
     },
     "execution_count": 47,
     "metadata": {},
     "output_type": "execute_result"
    }
   ],
   "source": [
    "# количество отсеченных строк в процентном соотношении\n",
    "round((auth_14_cleaned.shape[0] - data.shape[0]) * 100 / auth_14_cleaned.shape[0], 2)"
   ]
  },
  {
   "cell_type": "markdown",
   "metadata": {},
   "source": [
    "Было отброшено 520363 строк без значений времени регистрации, что составляет 5.91%."
   ]
  },
  {
   "cell_type": "markdown",
   "metadata": {},
   "source": [
    "#### Функция расчета retention"
   ]
  },
  {
   "cell_type": "markdown",
   "metadata": {},
   "source": [
    "Напишем функцию для расчета retention по дням."
   ]
  },
  {
   "cell_type": "code",
   "execution_count": 48,
   "metadata": {},
   "outputs": [],
   "source": [
    "# функция расчета retention по дням\n",
    "def retention(data, reg_pos=2, auth_pos=0, uid_pos=1, min_date=None, max_date=None):\n",
    "    '''Производит расчет retention по дням от даты регистрации пользователей.\n",
    "\n",
    "    Parameters\n",
    "    ----------\n",
    "    data : dataframe\n",
    "        Датафрейм с данными.\n",
    "    reg_pos : int\n",
    "        Номер колонки в датафрейме содержащий время регистрации\n",
    "        (default is 2)\n",
    "    auth_pos : int\n",
    "        Номер колонки в датафрейме содержащий время входа\n",
    "        (default is 0)\n",
    "    uid_pos : int\n",
    "        Номер колонки в датафрейме содержащий uid пользователя\n",
    "        (default is 1)\n",
    "    min_date : str\n",
    "        Минимальная дата регистрации в формате 'yyyy-mm-dd' (включая)\n",
    "        (default is None)\n",
    "    max_date : str\n",
    "        Максимальная дата регистрации в формате 'yyyy-mm-dd' (не включая)\n",
    "        (default is None)    \n",
    "\n",
    "    Returns\n",
    "    -------\n",
    "    dataframe\n",
    "        Таблица retention\n",
    "    '''\n",
    "\n",
    "    # делаем выборку нужных колонок\n",
    "    df = data.iloc[:, [uid_pos, reg_pos, auth_pos]].copy(deep=True)\n",
    "    \n",
    "    # проверка наличия и определение параметра min_date\n",
    "    if min_date is None:\n",
    "        min_date = df.reg_ts.min()\n",
    "        \n",
    "    # проверка наличия и определение параметра max_date\n",
    "    if max_date is None:\n",
    "        max_date = df.reg_ts.max()       \n",
    "\n",
    "    # выносим даты регистрации и входа в приложение в отдельные колонки\n",
    "    df['date_reg'] = df.reg_ts.dt.date\n",
    "    df['date_auth'] = df.auth_ts.dt.date\n",
    "    \n",
    "    # делаем выборку по диапазону дат\n",
    "    df = df[(df['reg_ts'] >= min_date) & (df['reg_ts'] <= max_date)]\n",
    "    \n",
    "    # посчитаем количество дней между датой регистрации и входом в приложение\n",
    "    df['days'] = df['date_auth'] - df['date_reg']\n",
    "    \n",
    "    # сгруппируем по дням регистрации и количеству дней использования\n",
    "    cohorts = df.groupby(['date_reg', 'days'], as_index=False) \\\n",
    "                  .agg({'uid': 'nunique'})  # агрегируем по уникальным пользователям\n",
    "    \n",
    "    # сформируем сводную таблицу\n",
    "    cohorts_pivot = cohorts.pivot(index='date_reg', columns='days', values='uid')\n",
    "    \n",
    "    # посчитаем retention\n",
    "    retention = pd.DataFrame()  # пустой датафрейм к которому будем прибавлять построково\n",
    "    for i in range(cohorts_pivot.shape[0]):  #  итерируемся по строкам\n",
    "        a = cohorts_pivot.iloc[i, 0]  # 100% число пользователей для этой даты\n",
    "        temp = cohorts_pivot.iloc[i, :].divide(a, axis=0).round(4)  # получаем пересчет на проценты \n",
    "        retention = retention.append(temp)  # построково добавляем посчитанные значения в итоговую таблицу retention\n",
    "\n",
    "    return retention"
   ]
  },
  {
   "cell_type": "markdown",
   "metadata": {},
   "source": [
    "#### Функция отображения посчитанного retention"
   ]
  },
  {
   "cell_type": "markdown",
   "metadata": {},
   "source": [
    "Напишем функцию для визуализации таблицы retention."
   ]
  },
  {
   "cell_type": "code",
   "execution_count": 49,
   "metadata": {},
   "outputs": [],
   "source": [
    "# функция построения таблицы retention\n",
    "def plot_retention(data, product_lt=10, user_lt=10, savefig=False):\n",
    "    '''Строит heatmap retention.\n",
    "\n",
    "    Parameters\n",
    "    ----------\n",
    "    data : dataframe\n",
    "        Датафрейм с посчитанными данными retention.\n",
    "    product_lt : int\n",
    "        Retention over product lifetime (\"ось y\").\n",
    "        (default is 10)\n",
    "    user_lt : int\n",
    "        Retention over user lifetime (\"ось х\").\n",
    "        (default is 0)\n",
    "    savefig : bool\n",
    "        Флаг сохранения полученной heatmap в jpeg.\n",
    "        (default is False)\n",
    "\n",
    "    Returns\n",
    "    -------\n",
    "    plotted retention heatmap\n",
    "        Heatmap таблицы retention\n",
    "    '''\n",
    "    \n",
    "    # выбираем нужный отрезок данных для вывода\n",
    "    user_lt_lst = [_ for _ in range(user_lt)]\n",
    "    plotting_slice = data.iloc[:product_lt, user_lt_lst]\n",
    "    \n",
    "    # отрисовка таблицы retention и ее оформление (заголовок, оси и т.д.)\n",
    "    plt.figure(figsize=(16,9))\n",
    "    ax = sns.heatmap(data=plotting_slice, fmt=' .2%', cmap='Blues', annot=True)\n",
    "    ax.set_title('Retention Heatmap',fontsize= 18)\n",
    "    xlabels = [f'Day {i}' for i in range(user_lt)]\n",
    "    ax.set_xticklabels(xlabels, rotation=0)\n",
    "    ax.xaxis.tick_top()\n",
    "    \n",
    "    # сохраняем heatmap в jpeg в рабочей директории\n",
    "    if savefig == True:\n",
    "        start = plotting_slice.index[0].strftime('%y%m%d')\n",
    "        end = plotting_slice.index[plotting_slice.shape[0]-1].strftime('%y%m%d')\n",
    "        plt.savefig(f'retention_{start}_{end}.jpg')"
   ]
  },
  {
   "cell_type": "markdown",
   "metadata": {},
   "source": [
    "#### Проверка результатов работы функций"
   ]
  },
  {
   "cell_type": "markdown",
   "metadata": {},
   "source": [
    "Проверим работу написанных функций и построим heatmap retention для периода с 01.09.2020 по 23.09.2020."
   ]
  },
  {
   "cell_type": "code",
   "execution_count": 50,
   "metadata": {},
   "outputs": [],
   "source": [
    "# посчитаем retention\n",
    "retention_test = retention(data, min_date='2020-09-01', max_date='2020-09-24')"
   ]
  },
  {
   "cell_type": "code",
   "execution_count": 53,
   "metadata": {},
   "outputs": [
    {
     "data": {
      "image/png": "[encoded data removed]",
      "text/plain": [
       "<Figure size 1152x648 with 2 Axes>"
      ]
     },
     "metadata": {
      "needs_background": "light"
     },
     "output_type": "display_data"
    }
   ],
   "source": [
    "# построим heatmap с сохранением результата в jpg файл\n",
    "plot_retention(retention_test, product_lt=23, user_lt=10, savefig=True)"
   ]
  },
  {
   "cell_type": "markdown",
   "metadata": {},
   "source": [
    "#### Выводы"
   ]
  },
  {
   "cell_type": "markdown",
   "metadata": {},
   "source": [
    "Функции расчета и отображения retention работают корректно."
   ]
  },
  {
   "cell_type": "markdown",
   "metadata": {},
   "source": [
    "### 1.5 Результаты"
   ]
  },
  {
   "cell_type": "markdown",
   "metadata": {},
   "source": [
    "На данном этапе были написаны и задокументированы две функции: расчета и отображения таблицы retention. С помощью параметров функций возможно настраивать диапазон дат расчета и отображения retention, а также давать команду сохранять итоговую таблицу retention (heatmap) в jpg файл.  \n",
    "\n",
    "Показатель retention очень важен. По нему можно судить о вовлеченности пользователя в продукт, а также отслеживать и предсказывать динамику его поведения. Например, на тестовых данных сентября 2020 года мы видим, что в основном пользователь начинает возвращаться в игру на второй день после регистрации (нулевой день). Максимальное удержание пользователей происходит на 4-7 дни использования продукта, после чего показатель retention начинает падать. В связи с этим стоит продумать об акциях и/или новых механиках игры, позволяющих увеличить удержание пользователей и после седьмого дня использования игры с момента регистрации пользователя."
   ]
  },
  {
   "cell_type": "code",
   "execution_count": null,
   "metadata": {},
   "outputs": [],
   "source": []
  },
  {
   "cell_type": "code",
   "execution_count": null,
   "metadata": {},
   "outputs": [],
   "source": []
  },
  {
   "cell_type": "code",
   "execution_count": null,
   "metadata": {},
   "outputs": [],
   "source": []
  },
  {
   "cell_type": "code",
   "execution_count": null,
   "metadata": {},
   "outputs": [],
   "source": []
  },
  {
   "cell_type": "code",
   "execution_count": null,
   "metadata": {},
   "outputs": [],
   "source": []
  },
  {
   "cell_type": "code",
   "execution_count": null,
   "metadata": {},
   "outputs": [],
   "source": []
  },
  {
   "cell_type": "code",
   "execution_count": null,
   "metadata": {},
   "outputs": [],
   "source": []
  },
  {
   "cell_type": "markdown",
   "metadata": {},
   "source": [
    "## 2. A/B тестирование"
   ]
  },
  {
   "cell_type": "markdown",
   "metadata": {},
   "source": [
    "### 2.1 Задача"
   ]
  },
  {
   "cell_type": "code",
   "execution_count": null,
   "metadata": {},
   "outputs": [],
   "source": []
  },
  {
   "cell_type": "markdown",
   "metadata": {},
   "source": [
    "## 3. Набор метрик для оценки результатов"
   ]
  },
  {
   "cell_type": "code",
   "execution_count": null,
   "metadata": {},
   "outputs": [],
   "source": []
  },
  {
   "cell_type": "code",
   "execution_count": null,
   "metadata": {},
   "outputs": [],
   "source": []
  },
  {
   "cell_type": "code",
   "execution_count": null,
   "metadata": {},
   "outputs": [],
   "source": []
  },
  {
   "cell_type": "code",
   "execution_count": null,
   "metadata": {},
   "outputs": [],
   "source": []
  },
  {
   "cell_type": "code",
   "execution_count": null,
   "metadata": {},
   "outputs": [],
   "source": []
  },
  {
   "cell_type": "code",
   "execution_count": null,
   "metadata": {},
   "outputs": [],
   "source": []
  },
  {
   "cell_type": "code",
   "execution_count": null,
   "metadata": {},
   "outputs": [],
   "source": []
  },
  {
   "cell_type": "code",
   "execution_count": null,
   "metadata": {},
   "outputs": [],
   "source": []
  },
  {
   "cell_type": "code",
   "execution_count": null,
   "metadata": {},
   "outputs": [],
   "source": []
  },
  {
   "cell_type": "code",
   "execution_count": null,
   "metadata": {},
   "outputs": [],
   "source": []
  }
 ],
 "metadata": {
  "kernelspec": {
   "display_name": "Python 3",
   "language": "python",
   "name": "python3"
  },
  "language_info": {
   "codemirror_mode": {
    "name": "ipython",
    "version": 3
   },
   "file_extension": ".py",
   "mimetype": "text/x-python",
   "name": "python",
   "nbconvert_exporter": "python",
   "pygments_lexer": "ipython3",
   "version": "3.7.6"
  }
 },
 "nbformat": 4,
 "nbformat_minor": 4
}
