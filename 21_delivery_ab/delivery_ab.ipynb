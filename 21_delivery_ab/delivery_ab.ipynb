{
 "cells": [
  {
   "cell_type": "markdown",
   "metadata": {},
   "source": [
    "## Pizza Delivery A/B test [mini project]"
   ]
  },
  {
   "cell_type": "markdown",
   "metadata": {},
   "source": [
    "###### The Task:  \n",
    "The delivery time dataset is devided in two groups: test group and control group. One group has an improved navigational algorithm another has a standard algorithm. Find out:\n",
    "* if there is a statistically significant difference in the delivery time? \n",
    "* Have we improved our delivery service? \n",
    "* Should we implement the new algorithm all over our enterprise?"
   ]
  },
  {
   "cell_type": "markdown",
   "metadata": {},
   "source": [
    "**Let's formulate hypothesis we'll be testing:**\n",
    "* Null Hypothesis (H0) -- There is no difference in an average delivery time for the test group and the control group.  \n",
    "* Alternative Hypothesis (H1) -- There is a difference in an average delivery time for the test group and the control group."
   ]
  },
  {
   "cell_type": "markdown",
   "metadata": {},
   "source": [
    "**Importing libraries**"
   ]
  },
  {
   "cell_type": "code",
   "execution_count": 17,
   "metadata": {},
   "outputs": [],
   "source": [
    "import pandas as pd\n",
    "import numpy as np\n",
    "from scipy import stats\n",
    "import seaborn as sns\n",
    "import matplotlib.pyplot as plt\n",
    "%matplotlib inline"
   ]
  },
  {
   "cell_type": "markdown",
   "metadata": {},
   "source": [
    "**Importing dataset from a zipped csv-file in the working directory**"
   ]
  },
  {
   "cell_type": "code",
   "execution_count": 7,
   "metadata": {},
   "outputs": [
    {
     "data": {
      "text/html": [
       "<div>\n",
       "<style scoped>\n",
       "    .dataframe tbody tr th:only-of-type {\n",
       "        vertical-align: middle;\n",
       "    }\n",
       "\n",
       "    .dataframe tbody tr th {\n",
       "        vertical-align: top;\n",
       "    }\n",
       "\n",
       "    .dataframe thead th {\n",
       "        text-align: right;\n",
       "    }\n",
       "</style>\n",
       "<table border=\"1\" class=\"dataframe\">\n",
       "  <thead>\n",
       "    <tr style=\"text-align: right;\">\n",
       "      <th></th>\n",
       "      <th>order_id</th>\n",
       "      <th>delivery_time</th>\n",
       "      <th>district</th>\n",
       "      <th>experiment_group</th>\n",
       "    </tr>\n",
       "  </thead>\n",
       "  <tbody>\n",
       "    <tr>\n",
       "      <th>0</th>\n",
       "      <td>3159</td>\n",
       "      <td>44.0</td>\n",
       "      <td>Purlieus</td>\n",
       "      <td>control</td>\n",
       "    </tr>\n",
       "    <tr>\n",
       "      <th>1</th>\n",
       "      <td>10426</td>\n",
       "      <td>51.0</td>\n",
       "      <td>Purlieus</td>\n",
       "      <td>control</td>\n",
       "    </tr>\n",
       "    <tr>\n",
       "      <th>2</th>\n",
       "      <td>9155</td>\n",
       "      <td>46.0</td>\n",
       "      <td>Purlieus</td>\n",
       "      <td>control</td>\n",
       "    </tr>\n",
       "    <tr>\n",
       "      <th>3</th>\n",
       "      <td>10699</td>\n",
       "      <td>34.0</td>\n",
       "      <td>Purlieus</td>\n",
       "      <td>control</td>\n",
       "    </tr>\n",
       "    <tr>\n",
       "      <th>4</th>\n",
       "      <td>10061</td>\n",
       "      <td>43.0</td>\n",
       "      <td>Purlieus</td>\n",
       "      <td>control</td>\n",
       "    </tr>\n",
       "    <tr>\n",
       "      <th>...</th>\n",
       "      <td>...</td>\n",
       "      <td>...</td>\n",
       "      <td>...</td>\n",
       "      <td>...</td>\n",
       "    </tr>\n",
       "    <tr>\n",
       "      <th>20191</th>\n",
       "      <td>14561</td>\n",
       "      <td>42.0</td>\n",
       "      <td>Suburb</td>\n",
       "      <td>test</td>\n",
       "    </tr>\n",
       "    <tr>\n",
       "      <th>20192</th>\n",
       "      <td>12015</td>\n",
       "      <td>32.0</td>\n",
       "      <td>Suburb</td>\n",
       "      <td>test</td>\n",
       "    </tr>\n",
       "    <tr>\n",
       "      <th>20193</th>\n",
       "      <td>20077</td>\n",
       "      <td>23.0</td>\n",
       "      <td>Purlieus</td>\n",
       "      <td>test</td>\n",
       "    </tr>\n",
       "    <tr>\n",
       "      <th>20194</th>\n",
       "      <td>14861</td>\n",
       "      <td>41.0</td>\n",
       "      <td>Central</td>\n",
       "      <td>test</td>\n",
       "    </tr>\n",
       "    <tr>\n",
       "      <th>20195</th>\n",
       "      <td>13501</td>\n",
       "      <td>41.0</td>\n",
       "      <td>Central</td>\n",
       "      <td>test</td>\n",
       "    </tr>\n",
       "  </tbody>\n",
       "</table>\n",
       "<p>20196 rows × 4 columns</p>\n",
       "</div>"
      ],
      "text/plain": [
       "       order_id  delivery_time  district experiment_group\n",
       "0          3159           44.0  Purlieus          control\n",
       "1         10426           51.0  Purlieus          control\n",
       "2          9155           46.0  Purlieus          control\n",
       "3         10699           34.0  Purlieus          control\n",
       "4         10061           43.0  Purlieus          control\n",
       "...         ...            ...       ...              ...\n",
       "20191     14561           42.0    Suburb             test\n",
       "20192     12015           32.0    Suburb             test\n",
       "20193     20077           23.0  Purlieus             test\n",
       "20194     14861           41.0   Central             test\n",
       "20195     13501           41.0   Central             test\n",
       "\n",
       "[20196 rows x 4 columns]"
      ]
     },
     "execution_count": 7,
     "metadata": {},
     "output_type": "execute_result"
    }
   ],
   "source": [
    "df = pd.read_csv('experiment_lesson_4.zip', compression='zip')\n",
    "\n",
    "df"
   ]
  },
  {
   "cell_type": "markdown",
   "metadata": {},
   "source": [
    "**Checking column names**"
   ]
  },
  {
   "cell_type": "code",
   "execution_count": 8,
   "metadata": {},
   "outputs": [
    {
     "data": {
      "text/plain": [
       "Index(['order_id', 'delivery_time', 'district', 'experiment_group'], dtype='object')"
      ]
     },
     "execution_count": 8,
     "metadata": {},
     "output_type": "execute_result"
    }
   ],
   "source": [
    "df.columns"
   ]
  },
  {
   "cell_type": "markdown",
   "metadata": {},
   "source": [
    "**Columns description:**\n",
    "* order_id - order id\n",
    "* delivery_time - delivery time, minutes\n",
    "* district - delivery neighbourhood name\n",
    "* experiment_group - test or control group"
   ]
  },
  {
   "cell_type": "markdown",
   "metadata": {},
   "source": [
    "**Checking columns datatypes**"
   ]
  },
  {
   "cell_type": "code",
   "execution_count": 9,
   "metadata": {},
   "outputs": [
    {
     "data": {
      "text/plain": [
       "order_id              int64\n",
       "delivery_time       float64\n",
       "district             object\n",
       "experiment_group     object\n",
       "dtype: object"
      ]
     },
     "execution_count": 9,
     "metadata": {},
     "output_type": "execute_result"
    }
   ],
   "source": [
    "df.dtypes"
   ]
  },
  {
   "cell_type": "markdown",
   "metadata": {},
   "source": [
    "**Checking for missing values**"
   ]
  },
  {
   "cell_type": "code",
   "execution_count": 10,
   "metadata": {},
   "outputs": [
    {
     "data": {
      "text/plain": [
       "order_id            0\n",
       "delivery_time       0\n",
       "district            0\n",
       "experiment_group    0\n",
       "dtype: int64"
      ]
     },
     "execution_count": 10,
     "metadata": {},
     "output_type": "execute_result"
    }
   ],
   "source": [
    "df.isna().sum()"
   ]
  },
  {
   "cell_type": "markdown",
   "metadata": {},
   "source": [
    "There is no missing values in the dataset"
   ]
  },
  {
   "cell_type": "markdown",
   "metadata": {},
   "source": [
    "**Count the number of deliveries in the test and the control groups**"
   ]
  },
  {
   "cell_type": "code",
   "execution_count": 11,
   "metadata": {},
   "outputs": [
    {
     "data": {
      "text/plain": [
       "test       10104\n",
       "control    10092\n",
       "Name: experiment_group, dtype: int64"
      ]
     },
     "execution_count": 11,
     "metadata": {},
     "output_type": "execute_result"
    }
   ],
   "source": [
    "# counting the number\n",
    "df.experiment_group.value_counts()"
   ]
  },
  {
   "cell_type": "markdown",
   "metadata": {},
   "source": [
    "**Finding the difference between the number of deliveries in the control and test groups**"
   ]
  },
  {
   "cell_type": "code",
   "execution_count": 12,
   "metadata": {},
   "outputs": [
    {
     "name": "stdout",
     "output_type": "stream",
     "text": [
      "The difference between two groups is: 12 deliveries.\n"
     ]
    }
   ],
   "source": [
    "dif = np.abs(df.experiment_group.value_counts()[0] - df.experiment_group.value_counts()[1])\n",
    "\n",
    "print(f'The difference between two groups is: {dif} deliveries.')"
   ]
  },
  {
   "cell_type": "code",
   "execution_count": 13,
   "metadata": {},
   "outputs": [
    {
     "data": {
      "image/png": "[encoded data removed]",
      "text/plain": [
       "<Figure size 432x288 with 1 Axes>"
      ]
     },
     "metadata": {},
     "output_type": "display_data"
    }
   ],
   "source": [
    "# grouping by group\n",
    "ab_counts = df.groupby('experiment_group').count().reset_index()\n",
    "\n",
    "# plotting two groups\n",
    "plt.pie(ab_counts.district, labels=['A: control group', 'B: test group'], autopct='%0.2f%%')\n",
    "plt.axis('equal');"
   ]
  },
  {
   "cell_type": "markdown",
   "metadata": {},
   "source": [
    "As we can see we have (almost) equal two groups for our A/B test."
   ]
  },
  {
   "cell_type": "markdown",
   "metadata": {},
   "source": [
    "**Checking basic delivery time descriptive statistics**"
   ]
  },
  {
   "cell_type": "code",
   "execution_count": 14,
   "metadata": {},
   "outputs": [
    {
     "data": {
      "text/plain": [
       "count    20196.000000\n",
       "mean        42.054169\n",
       "std         10.382196\n",
       "min         10.000000\n",
       "25%         35.000000\n",
       "50%         42.000000\n",
       "75%         49.000000\n",
       "max         83.000000\n",
       "Name: delivery_time, dtype: float64"
      ]
     },
     "execution_count": 14,
     "metadata": {},
     "output_type": "execute_result"
    }
   ],
   "source": [
    "df.delivery_time.describe()"
   ]
  },
  {
   "cell_type": "markdown",
   "metadata": {},
   "source": [
    "**Plotting distributions for test and control groups**"
   ]
  },
  {
   "cell_type": "code",
   "execution_count": 15,
   "metadata": {},
   "outputs": [
    {
     "data": {
      "image/png": "[encoded data removed]",
      "text/plain": [
       "<Figure size 864x432 with 2 Axes>"
      ]
     },
     "metadata": {
      "needs_background": "light"
     },
     "output_type": "display_data"
    }
   ],
   "source": [
    "# setting 'canvas'\n",
    "fig, (ax1, ax2) = plt.subplots(1, 2, sharex=True, figsize=(12, 6))\n",
    "ax1.set_title('Test group')\n",
    "ax2.set_title('Control group')\n",
    "\n",
    "# plotting the test group data\n",
    "sns.histplot(data=df[df['experiment_group'] == 'test'],\n",
    "                  x='delivery_time', hue='district', ax=ax1);\n",
    "\n",
    "# plotting the control group data\n",
    "sns.histplot(data=df[df['experiment_group'] == 'control'],\n",
    "                  x='delivery_time', hue='district', ax=ax2);"
   ]
  },
  {
   "cell_type": "markdown",
   "metadata": {},
   "source": [
    "**Let's check if the data is well-suited for the t-test:**\n",
    "* Both groups should have standard deviations that are close to each other;\n",
    "* Both groups should have normal distribution."
   ]
  },
  {
   "cell_type": "code",
   "execution_count": 19,
   "metadata": {},
   "outputs": [
    {
     "name": "stdout",
     "output_type": "stream",
     "text": [
      "Standard deviation for the experiment group is: 9.88\n",
      "Standard deviation for the control group is: 9.99\n",
      "The experiment group has normal distribution.\n",
      "The control group has normal distribution.\n"
     ]
    }
   ],
   "source": [
    "# calculating standard deviation\n",
    "std_test = df[df['experiment_group'] == 'test']['delivery_time'].std()\n",
    "print(f'Standard deviation for the experiment group is: {round(std_test, 2)}')\n",
    "std_control = df[df['experiment_group'] == 'control']['delivery_time'].std()\n",
    "print(f'Standard deviation for the control group is: {round(std_control, 2)}')\n",
    "\n",
    "# sampling dataset to have stable results of Shapiro-Wilk test (testing for normal distibution)\n",
    "sample_test = df[df['experiment_group'] == 'test']['delivery_time'].sample(1000, random_state=17)\n",
    "sample_control = df[df['experiment_group'] == 'control']['delivery_time'].sample(1000, random_state=17)\n",
    "\n",
    "# testing for normal distribution\n",
    "print('The experiment group has normal distribution.' if stats.shapiro(sample_test)[1] > 0.05 else 'Distribution is not normal!')\n",
    "print('The control group has normal distribution.' if stats.shapiro(sample_control)[1] > 0.05 else 'Distribution is not normal!')"
   ]
  },
  {
   "cell_type": "markdown",
   "metadata": {},
   "source": [
    "**Let's perform our A/B test**"
   ]
  },
  {
   "cell_type": "code",
   "execution_count": 29,
   "metadata": {},
   "outputs": [
    {
     "name": "stdout",
     "output_type": "stream",
     "text": [
      "t-score: -43.03582663183714\n",
      "p-value for the 95.0% confidence interval: 0.0\n",
      "\n",
      "Rejecting the null hypothesis.\n"
     ]
    }
   ],
   "source": [
    "# slicing dataset to have test and control groups\n",
    "test_group = df[df['experiment_group'] == 'test']['delivery_time']\n",
    "control_group = df[df['experiment_group'] == 'control']['delivery_time']\n",
    "alpha = 0.05\n",
    "\n",
    "# performing t-test (independent)\n",
    "result = stats.ttest_ind(test_group, control_group)\n",
    "t = result.statistic\n",
    "p_value = result.pvalue\n",
    "\n",
    "# printing results of the t-test\n",
    "print(f\"\"\"t-score: {t}\n",
    "p-value for the {(1 - alpha) * 100}% confidence interval: {p_value}\n",
    "\"\"\")\n",
    "\n",
    "# making the decision to accept or to reject the null hypothesis\n",
    "if p_value < alpha: \n",
    "    print(\"Rejecting the null hypothesis.\")\n",
    "else:\n",
    "    print(\"Acсepting the null hypothesis.\")"
   ]
  },
  {
   "cell_type": "markdown",
   "metadata": {},
   "source": [
    "**Calculating the difference in the delivery time**"
   ]
  },
  {
   "cell_type": "code",
   "execution_count": 363,
   "metadata": {},
   "outputs": [
    {
     "name": "stdout",
     "output_type": "stream",
     "text": [
      "The delivery time was reduced by 13.35%\n"
     ]
    }
   ],
   "source": [
    "# calculating percentage dif\n",
    "dif = round(((test_group.mean() / control_group.mean()) -1 )*100, 2)\n",
    "\n",
    "# printing the result\n",
    "if dif < 0:\n",
    "    print(f'The delivery time was reduced by {np.abs(dif)}%')\n",
    "elif dif > 0:\n",
    "    print(f'The delivery time was increased by {np.abs(dif)}%')\n",
    "else:\n",
    "    print('There were no significant difference in the delivery time.')"
   ]
  },
  {
   "cell_type": "markdown",
   "metadata": {},
   "source": [
    "###### Conclusion:  \n",
    "* We have rejected the null hypothesis and accepted the alternative hypothesis.\n",
    "* There is a statistically significant difference in the delivery time.\n",
    "* We have improved our delivery service with the new navigational algorithm.\n",
    "* We should apply the new algorithm to all deliveries in our company."
   ]
  }
 ],
 "metadata": {
  "kernelspec": {
   "display_name": "Python 3",
   "language": "python",
   "name": "python3"
  },
  "language_info": {
   "codemirror_mode": {
    "name": "ipython",
    "version": 3
   },
   "file_extension": ".py",
   "mimetype": "text/x-python",
   "name": "python",
   "nbconvert_exporter": "python",
   "pygments_lexer": "ipython3",
   "version": "3.7.6"
  }
 },
 "nbformat": 4,
 "nbformat_minor": 4
}
