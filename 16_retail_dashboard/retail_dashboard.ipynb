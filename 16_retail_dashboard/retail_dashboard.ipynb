{
 "cells": [
  {
   "cell_type": "markdown",
   "metadata": {},
   "source": [
    "## Retail Dashboard"
   ]
  },
  {
   "cell_type": "code",
   "execution_count": null,
   "metadata": {},
   "outputs": [],
   "source": [
    "# Visualization and dashboard were created using Redash (https://redash.io/)"
   ]
  },
  {
   "cell_type": "markdown",
   "metadata": {},
   "source": [
    "**Create a table for our retail data**"
   ]
  },
  {
   "cell_type": "code",
   "execution_count": null,
   "metadata": {},
   "outputs": [],
   "source": [
    "CREATE TABLE test.retail (\n",
    "    InvoiceNo stringMergeTree,\n",
    "    StockCode stringMergeTree,\n",
    "    Description stringMergeTree,\n",
    "    Quantity Int32,\n",
    "    InvoiceDate DateTime('Europe/London'),\n",
    "    UnitPrice Decimal64(3),\n",
    "    CustomerID uint32,\n",
    "    Country stringMergeTree)\n",
    "ENGINE = MergeTree\n",
    "ORDER BY InvoiceDate, CustomerID"
   ]
  },
  {
   "cell_type": "markdown",
   "metadata": {},
   "source": [
    "**Check the number of unique customers by country**"
   ]
  },
  {
   "cell_type": "code",
   "execution_count": null,
   "metadata": {},
   "outputs": [],
   "source": [
    "SELECT COUNT(DISTINCT CustomerID) AS uniq_customers,\n",
    "       Country\n",
    "FROM default.retail\n",
    "GROUP BY Country"
   ]
  },
  {
   "cell_type": "markdown",
   "metadata": {},
   "source": [
    "<img src='task1.png'>"
   ]
  },
  {
   "cell_type": "markdown",
   "metadata": {},
   "source": [
    "**Check the change of MAU (monthly active users) in UK, Australia and Netherlands**"
   ]
  },
  {
   "cell_type": "code",
   "execution_count": null,
   "metadata": {},
   "outputs": [],
   "source": [
    "SELECT COUNT(DISTINCT CustomerID) AS active_users,\n",
    "       toStartOfMonth(InvoiceDate) AS MONTH,\n",
    "       Country AS country\n",
    "FROM default.retail\n",
    "WHERE country IN ('United Kingdom',\n",
    "                  'Australia',\n",
    "                  'Netherlands')\n",
    "GROUP BY MONTH,\n",
    "         country\n",
    "ORDER BY MONTH"
   ]
  },
  {
   "cell_type": "markdown",
   "metadata": {},
   "source": [
    "<img src='task2.png'>"
   ]
  },
  {
   "cell_type": "markdown",
   "metadata": {},
   "source": [
    "**Check the change of MAU (monthly active users) for all countries except UK**"
   ]
  },
  {
   "cell_type": "code",
   "execution_count": null,
   "metadata": {},
   "outputs": [],
   "source": [
    "SELECT COUNT(DISTINCT CustomerID) AS active_users,\n",
    "       toStartOfMonth(InvoiceDate) AS MONTH,\n",
    "       Country AS country\n",
    "FROM default.retail\n",
    "WHERE country != 'United Kingdom'\n",
    "GROUP BY MONTH,\n",
    "         country\n",
    "ORDER BY MONTH"
   ]
  },
  {
   "cell_type": "markdown",
   "metadata": {},
   "source": [
    "<img src='task3.png'>"
   ]
  },
  {
   "cell_type": "markdown",
   "metadata": {},
   "source": [
    "**Calculate AOV (average order value) for each country**"
   ]
  },
  {
   "cell_type": "code",
   "execution_count": null,
   "metadata": {},
   "outputs": [],
   "source": [
    "SELECT AVG(order_value) AS AOV,\n",
    "       Country\n",
    "FROM\n",
    "  (SELECT InvoiceNo,\n",
    "          SUM(TotalPrice) AS order_value,\n",
    "          Country\n",
    "   FROM\n",
    "     (SELECT InvoiceNo,\n",
    "             Quantity * UnitPrice AS TotalPrice,\n",
    "             Country\n",
    "      FROM default.retail)\n",
    "   GROUP BY InvoiceNo,\n",
    "            Country\n",
    "   ORDER BY order_value DESC)\n",
    "GROUP BY Country\n",
    "ORDER BY AOV DESC"
   ]
  },
  {
   "cell_type": "markdown",
   "metadata": {},
   "source": [
    "<img src='task_4.png'>"
   ]
  },
  {
   "cell_type": "markdown",
   "metadata": {},
   "source": [
    "**Check the dynamics of AOV metrics for United Kingdom, Germany, France, Spain, Netherlands, Belgium, Switzerland, Portugal, Australia, USA**"
   ]
  },
  {
   "cell_type": "code",
   "execution_count": null,
   "metadata": {},
   "outputs": [],
   "source": [
    "SELECT AVG(order_value) AS AOV,\n",
    "       Country,\n",
    "       MONTH\n",
    "FROM\n",
    "  (SELECT SUM(TotalPrice) AS order_value,\n",
    "          MONTH,\n",
    "          Country\n",
    "   FROM\n",
    "     (SELECT InvoiceNo,\n",
    "             Quantity * UnitPrice AS TotalPrice,\n",
    "             Country,\n",
    "             toStartOfMonth(InvoiceDate) AS MONTH\n",
    "      FROM default.retail\n",
    "      WHERE Country IN ('United Kingdom',\n",
    "                        'Germany',\n",
    "                        'France',\n",
    "                        'Spain',\n",
    "                        'Netherlands',\n",
    "                        'Belgium',\n",
    "                        'Switzerland',\n",
    "                        'Portugal',\n",
    "                        'Australia',\n",
    "                        'USA') )\n",
    "   GROUP BY InvoiceNo,\n",
    "            Country,\n",
    "            MONTH\n",
    "   ORDER BY MONTH ASC, order_value DESC)\n",
    "GROUP BY MONTH,\n",
    "         Country\n",
    "ORDER BY MONTH ASC, AOV DESC"
   ]
  },
  {
   "cell_type": "markdown",
   "metadata": {},
   "source": [
    "<img src='task_5.png'>"
   ]
  },
  {
   "cell_type": "markdown",
   "metadata": {},
   "source": [
    "**Calculate an average number of items per order by country**"
   ]
  },
  {
   "cell_type": "code",
   "execution_count": null,
   "metadata": {},
   "outputs": [],
   "source": [
    "SELECT AVG(quantity_per_invoice) AS average_items,\n",
    "       Country\n",
    "FROM\n",
    "  (SELECT InvoiceNo,\n",
    "          SUM(Quantity) AS quantity_per_invoice,\n",
    "          Country\n",
    "   FROM default.retail\n",
    "   GROUP BY InvoiceNo,\n",
    "            Country)\n",
    "GROUP BY Country\n",
    "ORDER BY average_items DESC"
   ]
  },
  {
   "cell_type": "markdown",
   "metadata": {},
   "source": [
    "<img src='task_6.png'>"
   ]
  },
  {
   "cell_type": "markdown",
   "metadata": {},
   "source": [
    "**Investigate customers from the Netherlands. Find a customer who has bought the biggest number of items**"
   ]
  },
  {
   "cell_type": "code",
   "execution_count": null,
   "metadata": {},
   "outputs": [],
   "source": [
    "SELECT\n",
    "    SUM(Quantity) AS overall_quantity,\n",
    "    CustomerID\n",
    "FROM default.retail\n",
    "WHERE Country == 'Netherlands'\n",
    "GROUP BY CustomerID\n",
    "ORDER BY overall_quantity DESC\n",
    "LIMIT 100"
   ]
  },
  {
   "cell_type": "markdown",
   "metadata": {},
   "source": [
    "Now we can see that an average number of items per invoice is so high for customers from the Netherlands because we have one customer (CustomerID 14646) who has purchased 196719 items!\n",
    "<img src='task_7.png'>"
   ]
  },
  {
   "cell_type": "markdown",
   "metadata": {},
   "source": [
    "**Calculate revenue deistribution per country**"
   ]
  },
  {
   "cell_type": "code",
   "execution_count": null,
   "metadata": {},
   "outputs": [],
   "source": [
    "SELECT\n",
    "    Country,\n",
    "    --UnitPrice, \n",
    "    --Quantity,\n",
    "    SUM(UnitPrice * Quantity) AS total_revenue\n",
    "FROM default.retail\n",
    "GROUP BY Country\n",
    "ORDER BY total_revenue DESC"
   ]
  },
  {
   "cell_type": "markdown",
   "metadata": {},
   "source": [
    "**Calculate monthly revenue dynamics for UK**"
   ]
  },
  {
   "cell_type": "code",
   "execution_count": null,
   "metadata": {},
   "outputs": [],
   "source": [
    "SELECT\n",
    "    toStartOfMonth(InvoiceDate) AS month,\n",
    "    SUM(UnitPrice * Quantity) AS monthly_reveue\n",
    "FROM default.retail\n",
    "WHERE Country == 'United Kingdom'\n",
    "    AND month < '2011-12-01'\n",
    "GROUP BY month\n",
    "ORDER BY month ASC\n",
    "LIMIT 100"
   ]
  },
  {
   "cell_type": "markdown",
   "metadata": {},
   "source": [
    "**Find the top-10 sales value items in UK in November**"
   ]
  },
  {
   "cell_type": "code",
   "execution_count": null,
   "metadata": {},
   "outputs": [],
   "source": [
    "SELECT\n",
    "    Description,\n",
    "    SUM(Quantity) AS items_sold,\n",
    "    UnitPrice,\n",
    "    items_sold * UnitPrice AS total_sales_revenue\n",
    "FROM default.retail\n",
    "WHERE (toStartOfMonth(InvoiceDate) == '2011-11-01')\n",
    "    AND Country == 'United Kingdom'\n",
    "GROUP BY Description, UnitPrice\n",
    "ORDER BY total_sales_revenue DESC\n",
    "LIMIT 10"
   ]
  },
  {
   "cell_type": "markdown",
   "metadata": {},
   "source": [
    "**Create a dashboard using the last three queries**"
   ]
  },
  {
   "cell_type": "markdown",
   "metadata": {},
   "source": [
    "<img src='task_8_dashboard.png'>"
   ]
  },
  {
   "cell_type": "markdown",
   "metadata": {},
   "source": [
    "#### Dashboard summary\n",
    "The geography of the store's sales is shown in the upper left part of the dashboard. These are mainly Western Europe, Scandinavian countries, Great Britain, Canada, Australia and Brazil. The breakdown of revenue by country is shown in the bottom left corner. The first place by revenue is occupied by Great Britain. Moreover, the revenue indicators in Great Britain for the reporting period exceeded the revenue in the Netherlands (the second place) by 23.78 times.  \n",
    "\n",
    "Since the major part of the store's revenue is generated in the UK, an analysis of sales in this country was carried out on the right side of the dashboard. The top right corner shows the breakdown of revenue by month. It can be seen that the peak of sales is in November. This is most likely due to the eve of the Christmas holidays. After analyzing the products sold in November, we can see that the top 10 items sold in terms of revenue include Christmas decorations, garlands and New Year's gifts (frames, thermo mugs, red Christmas bags). Details on cost, quantity, as well as total revenue from the top 10 products in November are shown on the dashboard.  \n",
    "\n",
    "Therefore, it is recommended to consider:  \n",
    "- avoiding a shortage in warehouses of Christmas goods in the month of November,\n",
    "- to diversify the assortment of the store, to conduct campaigns to attract customers in order to avoid a significant seasonal decline in revenue in the the UK (the main market) in the period from January to September.  "
   ]
  }
 ],
 "metadata": {
  "kernelspec": {
   "display_name": "Python 3",
   "language": "python",
   "name": "python3"
  },
  "language_info": {
   "codemirror_mode": {
    "name": "ipython",
    "version": 3
   },
   "file_extension": ".py",
   "mimetype": "text/x-python",
   "name": "python",
   "nbconvert_exporter": "python",
   "pygments_lexer": "ipython3",
   "version": "3.7.6"
  }
 },
 "nbformat": 4,
 "nbformat_minor": 4
}
