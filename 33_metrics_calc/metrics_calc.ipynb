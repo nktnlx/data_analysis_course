{
 "cells": [
  {
   "cell_type": "markdown",
   "metadata": {},
   "source": [
    "## Metrics calculation (mini-project)"
   ]
  },
  {
   "cell_type": "markdown",
   "metadata": {},
   "source": [
    "**Importing libraries**"
   ]
  },
  {
   "cell_type": "code",
   "execution_count": 98,
   "metadata": {},
   "outputs": [],
   "source": [
    "import pandas as pd"
   ]
  },
  {
   "cell_type": "markdown",
   "metadata": {},
   "source": [
    "**Importing dataset from a zipped file**"
   ]
  },
  {
   "cell_type": "code",
   "execution_count": 99,
   "metadata": {},
   "outputs": [
    {
     "data": {
      "text/html": [
       "<div>\n",
       "<style scoped>\n",
       "    .dataframe tbody tr th:only-of-type {\n",
       "        vertical-align: middle;\n",
       "    }\n",
       "\n",
       "    .dataframe tbody tr th {\n",
       "        vertical-align: top;\n",
       "    }\n",
       "\n",
       "    .dataframe thead th {\n",
       "        text-align: right;\n",
       "    }\n",
       "</style>\n",
       "<table border=\"1\" class=\"dataframe\">\n",
       "  <thead>\n",
       "    <tr style=\"text-align: right;\">\n",
       "      <th></th>\n",
       "      <th>ga:date</th>\n",
       "      <th>ga:clientid</th>\n",
       "      <th>userID</th>\n",
       "      <th>ga:transaction_id</th>\n",
       "      <th>ga:revenue</th>\n",
       "      <th>Unnamed: 5</th>\n",
       "      <th>ga:user</th>\n",
       "    </tr>\n",
       "  </thead>\n",
       "  <tbody>\n",
       "    <tr>\n",
       "      <th>0</th>\n",
       "      <td>28-08-2019 12:29:24</td>\n",
       "      <td>2.802509e+08</td>\n",
       "      <td>7,186,054</td>\n",
       "      <td>383919</td>\n",
       "      <td>28103</td>\n",
       "      <td>NaN</td>\n",
       "      <td>141000.0</td>\n",
       "    </tr>\n",
       "    <tr>\n",
       "      <th>1</th>\n",
       "      <td>28-08-2019 12:27:12</td>\n",
       "      <td>8.196637e+08</td>\n",
       "      <td>7,186,010</td>\n",
       "      <td>97225</td>\n",
       "      <td>177697</td>\n",
       "      <td>NaN</td>\n",
       "      <td>NaN</td>\n",
       "    </tr>\n",
       "    <tr>\n",
       "      <th>2</th>\n",
       "      <td>28-08-2019 11:43:24</td>\n",
       "      <td>1.751156e+09</td>\n",
       "      <td>7,184,859</td>\n",
       "      <td>385087</td>\n",
       "      <td>64892</td>\n",
       "      <td>NaN</td>\n",
       "      <td>NaN</td>\n",
       "    </tr>\n",
       "    <tr>\n",
       "      <th>3</th>\n",
       "      <td>28-08-2019 11:40:50</td>\n",
       "      <td>5.515333e+08</td>\n",
       "      <td>7,186,029</td>\n",
       "      <td>385392</td>\n",
       "      <td>38816</td>\n",
       "      <td>NaN</td>\n",
       "      <td>NaN</td>\n",
       "    </tr>\n",
       "    <tr>\n",
       "      <th>4</th>\n",
       "      <td>28-08-2019 11:25:31</td>\n",
       "      <td>4.527935e+08</td>\n",
       "      <td>7,183,548</td>\n",
       "      <td>385871</td>\n",
       "      <td>3112</td>\n",
       "      <td>NaN</td>\n",
       "      <td>NaN</td>\n",
       "    </tr>\n",
       "    <tr>\n",
       "      <th>...</th>\n",
       "      <td>...</td>\n",
       "      <td>...</td>\n",
       "      <td>...</td>\n",
       "      <td>...</td>\n",
       "      <td>...</td>\n",
       "      <td>...</td>\n",
       "      <td>...</td>\n",
       "    </tr>\n",
       "    <tr>\n",
       "      <th>1006</th>\n",
       "      <td>01-08-2019 01:33:53</td>\n",
       "      <td>5.085028e+08</td>\n",
       "      <td>7186781</td>\n",
       "      <td>358692</td>\n",
       "      <td>9280</td>\n",
       "      <td>NaN</td>\n",
       "      <td>NaN</td>\n",
       "    </tr>\n",
       "    <tr>\n",
       "      <th>1007</th>\n",
       "      <td>01-08-2019 01:27:45</td>\n",
       "      <td>4.152444e+08</td>\n",
       "      <td>7186780</td>\n",
       "      <td>359792</td>\n",
       "      <td>2899</td>\n",
       "      <td>NaN</td>\n",
       "      <td>NaN</td>\n",
       "    </tr>\n",
       "    <tr>\n",
       "      <th>1008</th>\n",
       "      <td>01-08-2019 01:23:40</td>\n",
       "      <td>6.964930e+08</td>\n",
       "      <td>7186782</td>\n",
       "      <td>377751</td>\n",
       "      <td>8900</td>\n",
       "      <td>NaN</td>\n",
       "      <td>NaN</td>\n",
       "    </tr>\n",
       "    <tr>\n",
       "      <th>1009</th>\n",
       "      <td>01-08-2019 01:18:14</td>\n",
       "      <td>4.152444e+08</td>\n",
       "      <td>7186780</td>\n",
       "      <td>377721</td>\n",
       "      <td>8204</td>\n",
       "      <td>NaN</td>\n",
       "      <td>NaN</td>\n",
       "    </tr>\n",
       "    <tr>\n",
       "      <th>1010</th>\n",
       "      <td>01-08-2019 01:06:38</td>\n",
       "      <td>5.352736e+08</td>\n",
       "      <td>7014062</td>\n",
       "      <td>377748</td>\n",
       "      <td>3032</td>\n",
       "      <td>NaN</td>\n",
       "      <td>NaN</td>\n",
       "    </tr>\n",
       "  </tbody>\n",
       "</table>\n",
       "<p>1011 rows × 7 columns</p>\n",
       "</div>"
      ],
      "text/plain": [
       "                  ga:date   ga:clientid     userID ga:transaction_id  \\\n",
       "0     28-08-2019 12:29:24  2.802509e+08  7,186,054            383919   \n",
       "1     28-08-2019 12:27:12  8.196637e+08  7,186,010             97225   \n",
       "2     28-08-2019 11:43:24  1.751156e+09  7,184,859            385087   \n",
       "3     28-08-2019 11:40:50  5.515333e+08  7,186,029            385392   \n",
       "4     28-08-2019 11:25:31  4.527935e+08  7,183,548            385871   \n",
       "...                   ...           ...        ...               ...   \n",
       "1006  01-08-2019 01:33:53  5.085028e+08    7186781            358692   \n",
       "1007  01-08-2019 01:27:45  4.152444e+08    7186780            359792   \n",
       "1008  01-08-2019 01:23:40  6.964930e+08    7186782            377751   \n",
       "1009  01-08-2019 01:18:14  4.152444e+08    7186780            377721   \n",
       "1010  01-08-2019 01:06:38  5.352736e+08    7014062            377748   \n",
       "\n",
       "      ga:revenue  Unnamed: 5  ga:user   \n",
       "0          28103         NaN  141000.0  \n",
       "1         177697         NaN       NaN  \n",
       "2          64892         NaN       NaN  \n",
       "3          38816         NaN       NaN  \n",
       "4           3112         NaN       NaN  \n",
       "...          ...         ...       ...  \n",
       "1006        9280         NaN       NaN  \n",
       "1007        2899         NaN       NaN  \n",
       "1008        8900         NaN       NaN  \n",
       "1009        8204         NaN       NaN  \n",
       "1010        3032         NaN       NaN  \n",
       "\n",
       "[1011 rows x 7 columns]"
      ]
     },
     "execution_count": 99,
     "metadata": {},
     "output_type": "execute_result"
    }
   ],
   "source": [
    "df = pd.read_csv('august_data.zip', compression='zip')\n",
    "\n",
    "df"
   ]
  },
  {
   "cell_type": "markdown",
   "metadata": {},
   "source": [
    "**Getting basic info about data types and missing values**"
   ]
  },
  {
   "cell_type": "code",
   "execution_count": 100,
   "metadata": {},
   "outputs": [
    {
     "name": "stdout",
     "output_type": "stream",
     "text": [
      "<class 'pandas.core.frame.DataFrame'>\n",
      "RangeIndex: 1011 entries, 0 to 1010\n",
      "Data columns (total 7 columns):\n",
      " #   Column             Non-Null Count  Dtype  \n",
      "---  ------             --------------  -----  \n",
      " 0   ga:date            1011 non-null   object \n",
      " 1   ga:clientid        1011 non-null   float64\n",
      " 2   userID             1011 non-null   object \n",
      " 3   ga:transaction_id  1011 non-null   object \n",
      " 4   ga:revenue         1011 non-null   int64  \n",
      " 5   Unnamed: 5         0 non-null      float64\n",
      " 6   ga:user            1 non-null      float64\n",
      "dtypes: float64(3), int64(1), object(3)\n",
      "memory usage: 55.4+ KB\n"
     ]
    }
   ],
   "source": [
    "df.info()"
   ]
  },
  {
   "cell_type": "markdown",
   "metadata": {},
   "source": [
    "###### Columns description\n",
    "* **ga:date** – date\n",
    "* **ga:clientid** – client id from Google Analytics\n",
    "* **userID** – client id from another analytical system\n",
    "* **ga:transaction_id** – transaction id\n",
    "* **ga:revenue** – revenue\n",
    "* **ga:user** – am overall number of unique users"
   ]
  },
  {
   "cell_type": "markdown",
   "metadata": {},
   "source": [
    "**Show the number of unique users?**"
   ]
  },
  {
   "cell_type": "code",
   "execution_count": 101,
   "metadata": {},
   "outputs": [
    {
     "data": {
      "text/plain": [
       "141000.0"
      ]
     },
     "execution_count": 101,
     "metadata": {},
     "output_type": "execute_result"
    }
   ],
   "source": [
    "uniques = df.iloc[0, 6]\n",
    "\n",
    "uniques"
   ]
  },
  {
   "cell_type": "markdown",
   "metadata": {},
   "source": [
    "**Cleaning dataframe**"
   ]
  },
  {
   "cell_type": "code",
   "execution_count": 102,
   "metadata": {},
   "outputs": [
    {
     "data": {
      "text/plain": [
       "Index(['ga:date', 'ga:clientid', 'userID', 'ga:transaction_id', 'ga:revenue'], dtype='object')"
      ]
     },
     "execution_count": 102,
     "metadata": {},
     "output_type": "execute_result"
    }
   ],
   "source": [
    "# grabbing column names that we'll use\n",
    "column_names = df.columns[0:5]\n",
    "column_names"
   ]
  },
  {
   "cell_type": "code",
   "execution_count": 103,
   "metadata": {},
   "outputs": [],
   "source": [
    "# slicing our dataset\n",
    "df = df[column_names]"
   ]
  },
  {
   "cell_type": "code",
   "execution_count": 104,
   "metadata": {},
   "outputs": [],
   "source": [
    "# dropping 'userID' column (because we need data only from Google Analytics)\n",
    "df = df.drop(['userID'], axis=1)"
   ]
  },
  {
   "cell_type": "code",
   "execution_count": 105,
   "metadata": {},
   "outputs": [
    {
     "data": {
      "text/html": [
       "<div>\n",
       "<style scoped>\n",
       "    .dataframe tbody tr th:only-of-type {\n",
       "        vertical-align: middle;\n",
       "    }\n",
       "\n",
       "    .dataframe tbody tr th {\n",
       "        vertical-align: top;\n",
       "    }\n",
       "\n",
       "    .dataframe thead th {\n",
       "        text-align: right;\n",
       "    }\n",
       "</style>\n",
       "<table border=\"1\" class=\"dataframe\">\n",
       "  <thead>\n",
       "    <tr style=\"text-align: right;\">\n",
       "      <th></th>\n",
       "      <th>date</th>\n",
       "      <th>clientid</th>\n",
       "      <th>transaction_id</th>\n",
       "      <th>revenue</th>\n",
       "    </tr>\n",
       "  </thead>\n",
       "  <tbody>\n",
       "    <tr>\n",
       "      <th>0</th>\n",
       "      <td>28-08-2019 12:29:24</td>\n",
       "      <td>2.802509e+08</td>\n",
       "      <td>383919</td>\n",
       "      <td>28103</td>\n",
       "    </tr>\n",
       "    <tr>\n",
       "      <th>1</th>\n",
       "      <td>28-08-2019 12:27:12</td>\n",
       "      <td>8.196637e+08</td>\n",
       "      <td>97225</td>\n",
       "      <td>177697</td>\n",
       "    </tr>\n",
       "    <tr>\n",
       "      <th>2</th>\n",
       "      <td>28-08-2019 11:43:24</td>\n",
       "      <td>1.751156e+09</td>\n",
       "      <td>385087</td>\n",
       "      <td>64892</td>\n",
       "    </tr>\n",
       "    <tr>\n",
       "      <th>3</th>\n",
       "      <td>28-08-2019 11:40:50</td>\n",
       "      <td>5.515333e+08</td>\n",
       "      <td>385392</td>\n",
       "      <td>38816</td>\n",
       "    </tr>\n",
       "    <tr>\n",
       "      <th>4</th>\n",
       "      <td>28-08-2019 11:25:31</td>\n",
       "      <td>4.527935e+08</td>\n",
       "      <td>385871</td>\n",
       "      <td>3112</td>\n",
       "    </tr>\n",
       "    <tr>\n",
       "      <th>...</th>\n",
       "      <td>...</td>\n",
       "      <td>...</td>\n",
       "      <td>...</td>\n",
       "      <td>...</td>\n",
       "    </tr>\n",
       "    <tr>\n",
       "      <th>1006</th>\n",
       "      <td>01-08-2019 01:33:53</td>\n",
       "      <td>5.085028e+08</td>\n",
       "      <td>358692</td>\n",
       "      <td>9280</td>\n",
       "    </tr>\n",
       "    <tr>\n",
       "      <th>1007</th>\n",
       "      <td>01-08-2019 01:27:45</td>\n",
       "      <td>4.152444e+08</td>\n",
       "      <td>359792</td>\n",
       "      <td>2899</td>\n",
       "    </tr>\n",
       "    <tr>\n",
       "      <th>1008</th>\n",
       "      <td>01-08-2019 01:23:40</td>\n",
       "      <td>6.964930e+08</td>\n",
       "      <td>377751</td>\n",
       "      <td>8900</td>\n",
       "    </tr>\n",
       "    <tr>\n",
       "      <th>1009</th>\n",
       "      <td>01-08-2019 01:18:14</td>\n",
       "      <td>4.152444e+08</td>\n",
       "      <td>377721</td>\n",
       "      <td>8204</td>\n",
       "    </tr>\n",
       "    <tr>\n",
       "      <th>1010</th>\n",
       "      <td>01-08-2019 01:06:38</td>\n",
       "      <td>5.352736e+08</td>\n",
       "      <td>377748</td>\n",
       "      <td>3032</td>\n",
       "    </tr>\n",
       "  </tbody>\n",
       "</table>\n",
       "<p>1011 rows × 4 columns</p>\n",
       "</div>"
      ],
      "text/plain": [
       "                     date      clientid transaction_id  revenue\n",
       "0     28-08-2019 12:29:24  2.802509e+08         383919    28103\n",
       "1     28-08-2019 12:27:12  8.196637e+08          97225   177697\n",
       "2     28-08-2019 11:43:24  1.751156e+09         385087    64892\n",
       "3     28-08-2019 11:40:50  5.515333e+08         385392    38816\n",
       "4     28-08-2019 11:25:31  4.527935e+08         385871     3112\n",
       "...                   ...           ...            ...      ...\n",
       "1006  01-08-2019 01:33:53  5.085028e+08         358692     9280\n",
       "1007  01-08-2019 01:27:45  4.152444e+08         359792     2899\n",
       "1008  01-08-2019 01:23:40  6.964930e+08         377751     8900\n",
       "1009  01-08-2019 01:18:14  4.152444e+08         377721     8204\n",
       "1010  01-08-2019 01:06:38  5.352736e+08         377748     3032\n",
       "\n",
       "[1011 rows x 4 columns]"
      ]
     },
     "execution_count": 105,
     "metadata": {},
     "output_type": "execute_result"
    }
   ],
   "source": [
    "# renaming columns for our convenience\n",
    "df = df.rename(columns=lambda x: x[3:])\n",
    "\n",
    "df"
   ]
  },
  {
   "cell_type": "markdown",
   "metadata": {},
   "source": [
    "**Find a number of clients**"
   ]
  },
  {
   "cell_type": "code",
   "execution_count": 119,
   "metadata": {},
   "outputs": [
    {
     "data": {
      "text/plain": [
       "685"
      ]
     },
     "execution_count": 119,
     "metadata": {},
     "output_type": "execute_result"
    }
   ],
   "source": [
    "clients = df[df['revenue'] > 0].clientid.nunique()\n",
    "\n",
    "clients"
   ]
  },
  {
   "cell_type": "markdown",
   "metadata": {},
   "source": [
    "**Calculate conversion**"
   ]
  },
  {
   "cell_type": "code",
   "execution_count": 154,
   "metadata": {},
   "outputs": [
    {
     "data": {
      "text/plain": [
       "0.0049"
      ]
     },
     "execution_count": 154,
     "metadata": {},
     "output_type": "execute_result"
    }
   ],
   "source": [
    "cr = round((clients / uniques), 4)\n",
    "\n",
    "cr"
   ]
  },
  {
   "cell_type": "markdown",
   "metadata": {},
   "source": [
    "**Find an average check**"
   ]
  },
  {
   "cell_type": "code",
   "execution_count": 125,
   "metadata": {},
   "outputs": [
    {
     "data": {
      "text/plain": [
       "34458.0"
      ]
     },
     "execution_count": 125,
     "metadata": {},
     "output_type": "execute_result"
    }
   ],
   "source": [
    "round(df.revenue.sum() / df[df['revenue'] > 0].shape[0], 0)"
   ]
  },
  {
   "cell_type": "markdown",
   "metadata": {},
   "source": [
    "**Calculate an average number of purchases per user**"
   ]
  },
  {
   "cell_type": "code",
   "execution_count": 142,
   "metadata": {},
   "outputs": [
    {
     "data": {
      "text/plain": [
       "1.36"
      ]
     },
     "execution_count": 142,
     "metadata": {},
     "output_type": "execute_result"
    }
   ],
   "source": [
    "round(df[df['revenue'] > 0].groupby(['clientid'], as_index=False) \\\n",
    "    .agg({'transaction_id': 'count'}) \\\n",
    "    .transaction_id.mean(), 2)"
   ]
  },
  {
   "cell_type": "markdown",
   "metadata": {},
   "source": [
    "**Find ARPPU**"
   ]
  },
  {
   "cell_type": "code",
   "execution_count": 150,
   "metadata": {},
   "outputs": [
    {
     "data": {
      "text/plain": [
       "46883.0"
      ]
     },
     "execution_count": 150,
     "metadata": {},
     "output_type": "execute_result"
    }
   ],
   "source": [
    "arppu = round(df.revenue.sum() / clients, 0)\n",
    "\n",
    "arppu"
   ]
  },
  {
   "cell_type": "markdown",
   "metadata": {},
   "source": [
    "**Calculate ARPU**"
   ]
  },
  {
   "cell_type": "code",
   "execution_count": 156,
   "metadata": {},
   "outputs": [
    {
     "data": {
      "text/plain": [
       "230.0"
      ]
     },
     "execution_count": 156,
     "metadata": {},
     "output_type": "execute_result"
    }
   ],
   "source": [
    "arpu = round(arppu * cr, 0)\n",
    "\n",
    "arpu"
   ]
  }
 ],
 "metadata": {
  "kernelspec": {
   "display_name": "Python 3",
   "language": "python",
   "name": "python3"
  },
  "language_info": {
   "codemirror_mode": {
    "name": "ipython",
    "version": 3
   },
   "file_extension": ".py",
   "mimetype": "text/x-python",
   "name": "python",
   "nbconvert_exporter": "python",
   "pygments_lexer": "ipython3",
   "version": "3.7.6"
  }
 },
 "nbformat": 4,
 "nbformat_minor": 4
}
