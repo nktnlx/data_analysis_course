{
 "cells": [
  {
   "cell_type": "markdown",
   "metadata": {},
   "source": [
    "## Raw Data Handling (mini-project)"
   ]
  },
  {
   "cell_type": "markdown",
   "metadata": {},
   "source": [
    "**The data is in multiple files stored in various folders. Create a united dataframe to store all the data. Add to the dataframe columns DATE and NAME, rows should be names of the corresponding folder names.**  \n",
    " **Folders tree is shown below:**\n",
    "<img src='data_tree.png'>"
   ]
  },
  {
   "cell_type": "markdown",
   "metadata": {},
   "source": [
    "**The resulting dataframe should have the following columns with data:**  \n",
    "* product_id \n",
    "* quantity\n",
    "* name\n",
    "* date "
   ]
  },
  {
   "cell_type": "code",
   "execution_count": 3,
   "metadata": {},
   "outputs": [
    {
     "data": {
      "text/html": [
       "<div>\n",
       "<style scoped>\n",
       "    .dataframe tbody tr th:only-of-type {\n",
       "        vertical-align: middle;\n",
       "    }\n",
       "\n",
       "    .dataframe tbody tr th {\n",
       "        vertical-align: top;\n",
       "    }\n",
       "\n",
       "    .dataframe thead th {\n",
       "        text-align: right;\n",
       "    }\n",
       "</style>\n",
       "<table border=\"1\" class=\"dataframe\">\n",
       "  <thead>\n",
       "    <tr style=\"text-align: right;\">\n",
       "      <th></th>\n",
       "      <th>product_id</th>\n",
       "      <th>quantity</th>\n",
       "      <th>name</th>\n",
       "      <th>date</th>\n",
       "    </tr>\n",
       "  </thead>\n",
       "  <tbody>\n",
       "    <tr>\n",
       "      <th>0</th>\n",
       "      <td>79</td>\n",
       "      <td>3</td>\n",
       "      <td>Anton_Smirnov</td>\n",
       "      <td>2020-12-09</td>\n",
       "    </tr>\n",
       "    <tr>\n",
       "      <th>1</th>\n",
       "      <td>33</td>\n",
       "      <td>1</td>\n",
       "      <td>Anton_Smirnov</td>\n",
       "      <td>2020-12-09</td>\n",
       "    </tr>\n",
       "    <tr>\n",
       "      <th>2</th>\n",
       "      <td>81</td>\n",
       "      <td>3</td>\n",
       "      <td>Anton_Smirnov</td>\n",
       "      <td>2020-12-09</td>\n",
       "    </tr>\n",
       "    <tr>\n",
       "      <th>3</th>\n",
       "      <td>70</td>\n",
       "      <td>4</td>\n",
       "      <td>Anton_Smirnov</td>\n",
       "      <td>2020-12-09</td>\n",
       "    </tr>\n",
       "    <tr>\n",
       "      <th>4</th>\n",
       "      <td>56</td>\n",
       "      <td>5</td>\n",
       "      <td>Alexey_Smirnov</td>\n",
       "      <td>2020-12-09</td>\n",
       "    </tr>\n",
       "    <tr>\n",
       "      <th>...</th>\n",
       "      <td>...</td>\n",
       "      <td>...</td>\n",
       "      <td>...</td>\n",
       "      <td>...</td>\n",
       "    </tr>\n",
       "    <tr>\n",
       "      <th>156</th>\n",
       "      <td>73</td>\n",
       "      <td>5</td>\n",
       "      <td>Alexey_Fedorov</td>\n",
       "      <td>2020-12-08</td>\n",
       "    </tr>\n",
       "    <tr>\n",
       "      <th>157</th>\n",
       "      <td>34</td>\n",
       "      <td>1</td>\n",
       "      <td>Alexey_Fedorov</td>\n",
       "      <td>2020-12-08</td>\n",
       "    </tr>\n",
       "    <tr>\n",
       "      <th>158</th>\n",
       "      <td>71</td>\n",
       "      <td>1</td>\n",
       "      <td>Alexey_Fedorov</td>\n",
       "      <td>2020-12-08</td>\n",
       "    </tr>\n",
       "    <tr>\n",
       "      <th>159</th>\n",
       "      <td>18</td>\n",
       "      <td>2</td>\n",
       "      <td>Alexey_Fedorov</td>\n",
       "      <td>2020-12-08</td>\n",
       "    </tr>\n",
       "    <tr>\n",
       "      <th>160</th>\n",
       "      <td>67</td>\n",
       "      <td>2</td>\n",
       "      <td>Alexey_Fedorov</td>\n",
       "      <td>2020-12-08</td>\n",
       "    </tr>\n",
       "  </tbody>\n",
       "</table>\n",
       "<p>161 rows × 4 columns</p>\n",
       "</div>"
      ],
      "text/plain": [
       "     product_id  quantity            name        date\n",
       "0            79         3   Anton_Smirnov  2020-12-09\n",
       "1            33         1   Anton_Smirnov  2020-12-09\n",
       "2            81         3   Anton_Smirnov  2020-12-09\n",
       "3            70         4   Anton_Smirnov  2020-12-09\n",
       "4            56         5  Alexey_Smirnov  2020-12-09\n",
       "..          ...       ...             ...         ...\n",
       "156          73         5  Alexey_Fedorov  2020-12-08\n",
       "157          34         1  Alexey_Fedorov  2020-12-08\n",
       "158          71         1  Alexey_Fedorov  2020-12-08\n",
       "159          18         2  Alexey_Fedorov  2020-12-08\n",
       "160          67         2  Alexey_Fedorov  2020-12-08\n",
       "\n",
       "[161 rows x 4 columns]"
      ]
     },
     "execution_count": 3,
     "metadata": {},
     "output_type": "execute_result"
    }
   ],
   "source": [
    "import pandas as pd\n",
    "import os\n",
    "\n",
    "\n",
    "# checking current working directory and pointing to the folder with our data\n",
    "cwd = os.getcwd()\n",
    "data_folder = 'data_mini_project'\n",
    "\n",
    "# creating list of folders\n",
    "folders = []\n",
    "for path, folder, file in os.walk(cwd + '/' + data_folder):\n",
    "    if file:\n",
    "        file = file[0]\n",
    "    if folder:\n",
    "        folders.append(folder)\n",
    "    \n",
    "    \n",
    "# creating dict with inner folders structure (key - for date, value - for names)    \n",
    "folders_dict = {key: [] for key in folders[0]}\n",
    "i = 1\n",
    "for key in folders_dict.keys():\n",
    "    folders_dict[key] = folders[i]\n",
    "    i += 1\n",
    "\n",
    "\n",
    "# creating an empty dataframe\n",
    "df = pd.DataFrame()\n",
    "\n",
    "\n",
    "# reading csv files one by one and appending data to our dataframe\n",
    "for key in folders_dict:\n",
    "    for name in folders_dict[key]:\n",
    "        df_temp = pd.read_csv(cwd + '/' + data_folder + '/' + key + '/' + name + '/' + file, index_col=0)\n",
    "        df_temp['name'] = name\n",
    "        df_temp['date'] = key\n",
    "        df = pd.concat([df, df_temp])\n",
    "\n",
    "        \n",
    "# resetting indexes to have an index through\n",
    "df.reset_index(drop=True)"
   ]
  },
  {
   "cell_type": "markdown",
   "metadata": {},
   "source": [
    "**To check that you've created a proper dataset, please, show the total quantity of items. The sum should be equal to 480**"
   ]
  },
  {
   "cell_type": "code",
   "execution_count": 546,
   "metadata": {},
   "outputs": [
    {
     "data": {
      "text/plain": [
       "480"
      ]
     },
     "execution_count": 546,
     "metadata": {},
     "output_type": "execute_result"
    }
   ],
   "source": [
    "# checking the overal quantity of items\n",
    "df.quantity.sum()"
   ]
  },
  {
   "cell_type": "markdown",
   "metadata": {},
   "source": [
    "**Find out the user(s) who bought the most nubmer of items. If there is more than one such a user, list them in alphabetical order.**"
   ]
  },
  {
   "cell_type": "code",
   "execution_count": 4,
   "metadata": {},
   "outputs": [
    {
     "data": {
      "text/plain": [
       "'Alexey_Smirnov, Petr_Smirnov'"
      ]
     },
     "execution_count": 4,
     "metadata": {},
     "output_type": "execute_result"
    }
   ],
   "source": [
    "best_user = df.groupby(['name'], as_index=False) \\\n",
    "    .agg({'quantity': 'sum'}) \\\n",
    "    .sort_values('name') \\\n",
    "    .query('quantity == quantity.max()') \\\n",
    "    .name \\\n",
    "    .to_list()\n",
    "\n",
    "# string representation\n",
    "', '.join(best_user)"
   ]
  },
  {
   "cell_type": "markdown",
   "metadata": {},
   "source": [
    "**Find top-10 sold product_ids and plot the data**"
   ]
  },
  {
   "cell_type": "code",
   "execution_count": 619,
   "metadata": {},
   "outputs": [
    {
     "data": {
      "image/png": "[encoded data removed]",
      "text/plain": [
       "<Figure size 432x288 with 1 Axes>"
      ]
     },
     "metadata": {
      "needs_background": "light"
     },
     "output_type": "display_data"
    }
   ],
   "source": [
    "import seaborn as sns\n",
    "import matplotlib.pyplot as plt\n",
    "%matplotlib inline\n",
    "\n",
    "\n",
    "top_10 = df.groupby(['product_id'], as_index=False) \\\n",
    "           .quantity.sum() \\\n",
    "           .sort_values('quantity', ascending=False).head(10)\n",
    "\n",
    "# a list for reverse id oreder sorting\n",
    "for_order = sorted([24, 27, 34, 41, 50, 56, 66, 74, 92, 94], reverse=True)\n",
    "\n",
    "# alpha - transparency parameter\n",
    "ax = sns.barplot(x='product_id', y='quantity',data=top_10, palette='inferno', alpha=0.75, order=for_order)"
   ]
  },
  {
   "cell_type": "markdown",
   "metadata": {},
   "source": [
    "**Check daily sales of items. Plot the data.**"
   ]
  },
  {
   "cell_type": "code",
   "execution_count": 638,
   "metadata": {},
   "outputs": [
    {
     "data": {
      "image/png": "[encoded data removed]",
      "text/plain": [
       "<Figure size 864x576 with 1 Axes>"
      ]
     },
     "metadata": {
      "needs_background": "light"
     },
     "output_type": "display_data"
    }
   ],
   "source": [
    "days = df.groupby('date', as_index=False).agg({'quantity': 'sum'})\n",
    "\n",
    "plt.figure(figsize=(12, 8))\n",
    "ax = sns.barplot(x='date', y='quantity', data=days, palette='spring', alpha=0.75)"
   ]
  },
  {
   "cell_type": "markdown",
   "metadata": {},
   "source": [
    "**Find users who has bought the same product more than once in different days**"
   ]
  },
  {
   "cell_type": "code",
   "execution_count": 672,
   "metadata": {},
   "outputs": [
    {
     "data": {
      "text/html": [
       "<div>\n",
       "<style scoped>\n",
       "    .dataframe tbody tr th:only-of-type {\n",
       "        vertical-align: middle;\n",
       "    }\n",
       "\n",
       "    .dataframe tbody tr th {\n",
       "        vertical-align: top;\n",
       "    }\n",
       "\n",
       "    .dataframe thead th {\n",
       "        text-align: right;\n",
       "    }\n",
       "</style>\n",
       "<table border=\"1\" class=\"dataframe\">\n",
       "  <thead>\n",
       "    <tr style=\"text-align: right;\">\n",
       "      <th></th>\n",
       "      <th>name</th>\n",
       "      <th>product_id</th>\n",
       "      <th>date</th>\n",
       "    </tr>\n",
       "  </thead>\n",
       "  <tbody>\n",
       "    <tr>\n",
       "      <th>37</th>\n",
       "      <td>Anton_Ivanov</td>\n",
       "      <td>15</td>\n",
       "      <td>2</td>\n",
       "    </tr>\n",
       "    <tr>\n",
       "      <th>92</th>\n",
       "      <td>Petr_Fedorov</td>\n",
       "      <td>94</td>\n",
       "      <td>2</td>\n",
       "    </tr>\n",
       "  </tbody>\n",
       "</table>\n",
       "</div>"
      ],
      "text/plain": [
       "            name  product_id  date\n",
       "37  Anton_Ivanov          15     2\n",
       "92  Petr_Fedorov          94     2"
      ]
     },
     "execution_count": 672,
     "metadata": {},
     "output_type": "execute_result"
    }
   ],
   "source": [
    "fav_products = ( \n",
    "    df.reset_index(drop=True) \n",
    "      .drop_duplicates(subset=['product_id', 'date', 'name'])  # removing duplicates by product_id, date, name -- in case someone bought the same product more than once per day\n",
    "      .groupby(['name', 'product_id'], as_index=False)  # grouping by name and product_id\n",
    "      .agg({'date': 'count'})  # counting number of different dates when name and product_id are the same\n",
    "      .query('date  > 1')  # filtering values less than one two obtain users who bought same products on different days\n",
    "               )  \n",
    "\n",
    "fav_products"
   ]
  }
 ],
 "metadata": {
  "kernelspec": {
   "display_name": "Python 3",
   "language": "python",
   "name": "python3"
  },
  "language_info": {
   "codemirror_mode": {
    "name": "ipython",
    "version": 3
   },
   "file_extension": ".py",
   "mimetype": "text/x-python",
   "name": "python",
   "nbconvert_exporter": "python",
   "pygments_lexer": "ipython3",
   "version": "3.7.6"
  }
 },
 "nbformat": 4,
 "nbformat_minor": 4
}
